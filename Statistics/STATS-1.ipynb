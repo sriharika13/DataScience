{
 "cells": [
  {
   "cell_type": "code",
   "execution_count": 45,
   "id": "89045194",
   "metadata": {
    "scrolled": true
   },
   "outputs": [
    {
     "data": {
      "text/html": [
       "<div>\n",
       "<style scoped>\n",
       "    .dataframe tbody tr th:only-of-type {\n",
       "        vertical-align: middle;\n",
       "    }\n",
       "\n",
       "    .dataframe tbody tr th {\n",
       "        vertical-align: top;\n",
       "    }\n",
       "\n",
       "    .dataframe thead th {\n",
       "        text-align: right;\n",
       "    }\n",
       "</style>\n",
       "<table border=\"1\" class=\"dataframe\">\n",
       "  <thead>\n",
       "    <tr style=\"text-align: right;\">\n",
       "      <th></th>\n",
       "      <th>state</th>\n",
       "      <th>county</th>\n",
       "      <th>total_votes</th>\n",
       "      <th>dem_votes</th>\n",
       "      <th>rep_votes</th>\n",
       "      <th>dem_share</th>\n",
       "    </tr>\n",
       "  </thead>\n",
       "  <tbody>\n",
       "    <tr>\n",
       "      <th>0</th>\n",
       "      <td>PA</td>\n",
       "      <td>Erie County</td>\n",
       "      <td>127691</td>\n",
       "      <td>75775</td>\n",
       "      <td>50351</td>\n",
       "      <td>60.08</td>\n",
       "    </tr>\n",
       "    <tr>\n",
       "      <th>1</th>\n",
       "      <td>PA</td>\n",
       "      <td>Bradford County</td>\n",
       "      <td>25787</td>\n",
       "      <td>10306</td>\n",
       "      <td>15057</td>\n",
       "      <td>40.64</td>\n",
       "    </tr>\n",
       "    <tr>\n",
       "      <th>2</th>\n",
       "      <td>PA</td>\n",
       "      <td>Tioga County</td>\n",
       "      <td>17984</td>\n",
       "      <td>6390</td>\n",
       "      <td>11326</td>\n",
       "      <td>36.07</td>\n",
       "    </tr>\n",
       "    <tr>\n",
       "      <th>3</th>\n",
       "      <td>PA</td>\n",
       "      <td>McKean County</td>\n",
       "      <td>15947</td>\n",
       "      <td>6465</td>\n",
       "      <td>9224</td>\n",
       "      <td>41.21</td>\n",
       "    </tr>\n",
       "    <tr>\n",
       "      <th>4</th>\n",
       "      <td>PA</td>\n",
       "      <td>Potter County</td>\n",
       "      <td>7507</td>\n",
       "      <td>2300</td>\n",
       "      <td>5109</td>\n",
       "      <td>31.04</td>\n",
       "    </tr>\n",
       "    <tr>\n",
       "      <th>...</th>\n",
       "      <td>...</td>\n",
       "      <td>...</td>\n",
       "      <td>...</td>\n",
       "      <td>...</td>\n",
       "      <td>...</td>\n",
       "      <td>...</td>\n",
       "    </tr>\n",
       "    <tr>\n",
       "      <th>217</th>\n",
       "      <td>OH</td>\n",
       "      <td>Hamilton County</td>\n",
       "      <td>425086</td>\n",
       "      <td>225213</td>\n",
       "      <td>195530</td>\n",
       "      <td>53.53</td>\n",
       "    </tr>\n",
       "    <tr>\n",
       "      <th>218</th>\n",
       "      <td>OH</td>\n",
       "      <td>Highland County</td>\n",
       "      <td>19186</td>\n",
       "      <td>6856</td>\n",
       "      <td>11907</td>\n",
       "      <td>36.54</td>\n",
       "    </tr>\n",
       "    <tr>\n",
       "      <th>219</th>\n",
       "      <td>OH</td>\n",
       "      <td>Hocking County</td>\n",
       "      <td>12961</td>\n",
       "      <td>6259</td>\n",
       "      <td>6364</td>\n",
       "      <td>49.58</td>\n",
       "    </tr>\n",
       "    <tr>\n",
       "      <th>220</th>\n",
       "      <td>OH</td>\n",
       "      <td>Licking County</td>\n",
       "      <td>82356</td>\n",
       "      <td>33932</td>\n",
       "      <td>46918</td>\n",
       "      <td>41.97</td>\n",
       "    </tr>\n",
       "    <tr>\n",
       "      <th>221</th>\n",
       "      <td>OH</td>\n",
       "      <td>Madison County</td>\n",
       "      <td>17454</td>\n",
       "      <td>6532</td>\n",
       "      <td>10606</td>\n",
       "      <td>38.11</td>\n",
       "    </tr>\n",
       "  </tbody>\n",
       "</table>\n",
       "<p>222 rows × 6 columns</p>\n",
       "</div>"
      ],
      "text/plain": [
       "    state           county  total_votes  dem_votes  rep_votes  dem_share\n",
       "0      PA      Erie County       127691      75775      50351      60.08\n",
       "1      PA  Bradford County        25787      10306      15057      40.64\n",
       "2      PA     Tioga County        17984       6390      11326      36.07\n",
       "3      PA    McKean County        15947       6465       9224      41.21\n",
       "4      PA    Potter County         7507       2300       5109      31.04\n",
       "..    ...              ...          ...        ...        ...        ...\n",
       "217    OH  Hamilton County       425086     225213     195530      53.53\n",
       "218    OH  Highland County        19186       6856      11907      36.54\n",
       "219    OH   Hocking County        12961       6259       6364      49.58\n",
       "220    OH   Licking County        82356      33932      46918      41.97\n",
       "221    OH   Madison County        17454       6532      10606      38.11\n",
       "\n",
       "[222 rows x 6 columns]"
      ]
     },
     "execution_count": 45,
     "metadata": {},
     "output_type": "execute_result"
    }
   ],
   "source": [
    "import pandas as pd\n",
    "df= pd.read_csv('D:\\CSV\\swing_states_2008.csv')\n",
    "df"
   ]
  },
  {
   "cell_type": "markdown",
   "id": "e6d7771a",
   "metadata": {},
   "source": [
    "BELOW METHODS OF EDA ARE GRAPHICAL EDA."
   ]
  },
  {
   "cell_type": "markdown",
   "id": "a08beaac",
   "metadata": {},
   "source": [
    "Histogram:"
   ]
  },
  {
   "cell_type": "code",
   "execution_count": 46,
   "id": "c40e9b1e",
   "metadata": {},
   "outputs": [
    {
     "data": {
      "image/png": "[encoded data removed]",
      "text/plain": [
       "<Figure size 432x288 with 1 Axes>"
      ]
     },
     "metadata": {
      "needs_background": "light"
     },
     "output_type": "display_data"
    }
   ],
   "source": [
    "import matplotlib.pyplot as plt\n",
    "plt.hist(df['dem_share'])\n",
    "plt.xlabel(\"percent of vote share for Obama\")\n",
    "plt.ylabel(\"number of counties\")\n",
    "plt.show()\n",
    "\n",
    "# import seaborn as sns\n",
    "# sns.set()\n",
    "# plt.hist(df['dem_share'])\n",
    "# plt.xlabel(\"percent of vote share for Obama\")\n",
    "# plt.ylabel(\"number of counties\")\n",
    "# plt.show()"
   ]
  },
  {
   "cell_type": "markdown",
   "id": "be7c235b",
   "metadata": {},
   "source": [
    "#### INSIGHT: Most of counties gave 40-50% vote share for Obama. Choice of bins can make interpretation of same sample different."
   ]
  },
  {
   "cell_type": "markdown",
   "id": "2312342e",
   "metadata": {},
   "source": [
    "SwarmPlot:"
   ]
  },
  {
   "cell_type": "code",
   "execution_count": 47,
   "id": "d042e209",
   "metadata": {},
   "outputs": [
    {
     "data": {
      "image/png": "[encoded data removed]",
      "text/plain": [
       "<Figure size 432x288 with 1 Axes>"
      ]
     },
     "metadata": {
      "needs_background": "light"
     },
     "output_type": "display_data"
    }
   ],
   "source": [
    "# This plot used because of wrong interpretation by \n",
    "import seaborn as sns\n",
    "sns.swarmplot(x='state', y='dem_share', data=df)\n",
    "plt.xlabel(\"state\")\n",
    "plt.ylabel(\"percent of vote for Obama\")\n",
    "plt.show()\n",
    "#each dot represnts A COUNTY."
   ]
  },
  {
   "cell_type": "markdown",
   "id": "16c5ab88",
   "metadata": {},
   "source": [
    "#### INSIGHT: Obama got less tham 50% of votes in majority of counties in each of 3 swing states."
   ]
  },
  {
   "cell_type": "code",
   "execution_count": 48,
   "id": "68b63d97",
   "metadata": {},
   "outputs": [
    {
     "data": {
      "image/png": "[encoded data removed]",
      "text/plain": [
       "<Figure size 432x288 with 1 Axes>"
      ]
     },
     "metadata": {
      "needs_background": "light"
     },
     "output_type": "display_data"
    }
   ],
   "source": [
    "#ECDF: Empirical(actual result rather than theoritical) Cumulative Distribution Function:\n",
    "import numpy as np\n",
    "data= df['dem_share']\n",
    "n=len(data)\n",
    "# print(n)\n",
    "x= np.sort(data)\n",
    "y=np.arange(1, n+1) /n\n",
    "# print(y)\n",
    "plt.xlabel(\"percent vote for obama\")\n",
    "plt.ylabel(\"ECDF\")\n",
    "plt.plot(x, y, marker=\".\",linestyle='none')\n",
    "plt.show()"
   ]
  },
  {
   "cell_type": "markdown",
   "id": "11d8a34b",
   "metadata": {},
   "source": [
    "#### INSIGHT: 20% of counties in swing states had 36% or less vote for Obama. 75% of counties in swing states had 50% or less of its peole vote for Obama"
   ]
  },
  {
   "cell_type": "code",
   "execution_count": 49,
   "id": "1a3a2a14",
   "metadata": {},
   "outputs": [],
   "source": [
    "import numpy as np\n",
    "def ecdf(data):\n",
    "    n=len(data)\n",
    "#     print(n)\n",
    "    x= np.sort(data)\n",
    "    y=np.arange(1, n+1) /n\n",
    "#     print(y)\n",
    "    \n",
    "    return x,y"
   ]
  },
  {
   "cell_type": "code",
   "execution_count": 75,
   "id": "9ad983c7",
   "metadata": {},
   "outputs": [
    {
     "data": {
      "image/png": "[encoded data removed]",
      "text/plain": [
       "<Figure size 432x288 with 1 Axes>"
      ]
     },
     "metadata": {
      "needs_background": "light"
     },
     "output_type": "display_data"
    }
   ],
   "source": [
    "PA= df[df['state']=='PA']\n",
    "OH= df[df['state']=='OH']\n",
    "FL= df[df['state']=='FL']\n",
    "\n",
    "x_p,y_p=ecdf(PA['dem_share'])\n",
    "x_o, y_o=ecdf(OH['dem_share'])\n",
    "x_f, y_f=ecdf(FL['dem_share'])\n",
    "plt.xlabel(\"percent vote for obama\")\n",
    "plt.ylabel(\"ECDF\")\n",
    "plt.plot(x_p, y_p, marker=\".\",linestyle='none')\n",
    "plt.plot(x_o, y_o, marker=\".\",linestyle='none')\n",
    "plt.plot(x_f, y_f, marker=\".\",linestyle='none')\n",
    "\n",
    "\n",
    "\n",
    "plt.legend(('PA', 'OH', 'FL'), loc='lower right')\n",
    "plt.margins(0.02) #keeps data off plot edges"
   ]
  },
  {
   "cell_type": "markdown",
   "id": "1958db2c",
   "metadata": {},
   "source": [
    "#### INSIGHT: OH and PA are similar, with PA having slightly more democratic counties. FL had a greater fraction of heavily republican counties."
   ]
  },
  {
   "cell_type": "code",
   "execution_count": 51,
   "id": "32c64b07",
   "metadata": {},
   "outputs": [
    {
     "data": {
      "text/html": [
       "<div>\n",
       "<style scoped>\n",
       "    .dataframe tbody tr th:only-of-type {\n",
       "        vertical-align: middle;\n",
       "    }\n",
       "\n",
       "    .dataframe tbody tr th {\n",
       "        vertical-align: top;\n",
       "    }\n",
       "\n",
       "    .dataframe thead th {\n",
       "        text-align: right;\n",
       "    }\n",
       "</style>\n",
       "<table border=\"1\" class=\"dataframe\">\n",
       "  <thead>\n",
       "    <tr style=\"text-align: right;\">\n",
       "      <th></th>\n",
       "      <th>state</th>\n",
       "      <th>county</th>\n",
       "      <th>total_votes</th>\n",
       "      <th>dem_votes</th>\n",
       "      <th>rep_votes</th>\n",
       "      <th>other_votes</th>\n",
       "      <th>dem_share</th>\n",
       "      <th>east_west</th>\n",
       "    </tr>\n",
       "  </thead>\n",
       "  <tbody>\n",
       "    <tr>\n",
       "      <th>0</th>\n",
       "      <td>AK</td>\n",
       "      <td>State House District 8, Denali-University</td>\n",
       "      <td>10320</td>\n",
       "      <td>4995</td>\n",
       "      <td>4983</td>\n",
       "      <td>342</td>\n",
       "      <td>50.06</td>\n",
       "      <td>west</td>\n",
       "    </tr>\n",
       "    <tr>\n",
       "      <th>1</th>\n",
       "      <td>AK</td>\n",
       "      <td>State House District 37, Bristol Bay-Aleuti</td>\n",
       "      <td>4665</td>\n",
       "      <td>1868</td>\n",
       "      <td>2661</td>\n",
       "      <td>136</td>\n",
       "      <td>41.24</td>\n",
       "      <td>west</td>\n",
       "    </tr>\n",
       "    <tr>\n",
       "      <th>2</th>\n",
       "      <td>AK</td>\n",
       "      <td>State House District 12, Richardson-Glenn H</td>\n",
       "      <td>7589</td>\n",
       "      <td>1914</td>\n",
       "      <td>5467</td>\n",
       "      <td>208</td>\n",
       "      <td>25.93</td>\n",
       "      <td>west</td>\n",
       "    </tr>\n",
       "    <tr>\n",
       "      <th>3</th>\n",
       "      <td>AK</td>\n",
       "      <td>State House District 13, Greater Palmer</td>\n",
       "      <td>11526</td>\n",
       "      <td>2800</td>\n",
       "      <td>8432</td>\n",
       "      <td>294</td>\n",
       "      <td>24.93</td>\n",
       "      <td>west</td>\n",
       "    </tr>\n",
       "    <tr>\n",
       "      <th>4</th>\n",
       "      <td>AK</td>\n",
       "      <td>State House District 14, Greater Wasilla</td>\n",
       "      <td>10456</td>\n",
       "      <td>2132</td>\n",
       "      <td>8108</td>\n",
       "      <td>216</td>\n",
       "      <td>20.82</td>\n",
       "      <td>west</td>\n",
       "    </tr>\n",
       "    <tr>\n",
       "      <th>...</th>\n",
       "      <td>...</td>\n",
       "      <td>...</td>\n",
       "      <td>...</td>\n",
       "      <td>...</td>\n",
       "      <td>...</td>\n",
       "      <td>...</td>\n",
       "      <td>...</td>\n",
       "      <td>...</td>\n",
       "    </tr>\n",
       "    <tr>\n",
       "      <th>3148</th>\n",
       "      <td>OH</td>\n",
       "      <td>Hamilton County</td>\n",
       "      <td>425086</td>\n",
       "      <td>225213</td>\n",
       "      <td>195530</td>\n",
       "      <td>4343</td>\n",
       "      <td>53.53</td>\n",
       "      <td>east</td>\n",
       "    </tr>\n",
       "    <tr>\n",
       "      <th>3149</th>\n",
       "      <td>OH</td>\n",
       "      <td>Highland County</td>\n",
       "      <td>19186</td>\n",
       "      <td>6856</td>\n",
       "      <td>11907</td>\n",
       "      <td>423</td>\n",
       "      <td>36.54</td>\n",
       "      <td>east</td>\n",
       "    </tr>\n",
       "    <tr>\n",
       "      <th>3150</th>\n",
       "      <td>OH</td>\n",
       "      <td>Hocking County</td>\n",
       "      <td>12961</td>\n",
       "      <td>6259</td>\n",
       "      <td>6364</td>\n",
       "      <td>338</td>\n",
       "      <td>49.58</td>\n",
       "      <td>east</td>\n",
       "    </tr>\n",
       "    <tr>\n",
       "      <th>3151</th>\n",
       "      <td>OH</td>\n",
       "      <td>Licking County</td>\n",
       "      <td>82356</td>\n",
       "      <td>33932</td>\n",
       "      <td>46918</td>\n",
       "      <td>1506</td>\n",
       "      <td>41.97</td>\n",
       "      <td>east</td>\n",
       "    </tr>\n",
       "    <tr>\n",
       "      <th>3152</th>\n",
       "      <td>OH</td>\n",
       "      <td>Madison County</td>\n",
       "      <td>17454</td>\n",
       "      <td>6532</td>\n",
       "      <td>10606</td>\n",
       "      <td>316</td>\n",
       "      <td>38.11</td>\n",
       "      <td>east</td>\n",
       "    </tr>\n",
       "  </tbody>\n",
       "</table>\n",
       "<p>3153 rows × 8 columns</p>\n",
       "</div>"
      ],
      "text/plain": [
       "     state                                       county  total_votes  \\\n",
       "0       AK    State House District 8, Denali-University        10320   \n",
       "1       AK  State House District 37, Bristol Bay-Aleuti         4665   \n",
       "2       AK  State House District 12, Richardson-Glenn H         7589   \n",
       "3       AK      State House District 13, Greater Palmer        11526   \n",
       "4       AK     State House District 14, Greater Wasilla        10456   \n",
       "...    ...                                          ...          ...   \n",
       "3148    OH                              Hamilton County       425086   \n",
       "3149    OH                              Highland County        19186   \n",
       "3150    OH                               Hocking County        12961   \n",
       "3151    OH                               Licking County        82356   \n",
       "3152    OH                               Madison County        17454   \n",
       "\n",
       "      dem_votes  rep_votes  other_votes  dem_share east_west  \n",
       "0          4995       4983          342      50.06      west  \n",
       "1          1868       2661          136      41.24      west  \n",
       "2          1914       5467          208      25.93      west  \n",
       "3          2800       8432          294      24.93      west  \n",
       "4          2132       8108          216      20.82      west  \n",
       "...         ...        ...          ...        ...       ...  \n",
       "3148     225213     195530         4343      53.53      east  \n",
       "3149       6856      11907          423      36.54      east  \n",
       "3150       6259       6364          338      49.58      east  \n",
       "3151      33932      46918         1506      41.97      east  \n",
       "3152       6532      10606          316      38.11      east  \n",
       "\n",
       "[3153 rows x 8 columns]"
      ]
     },
     "execution_count": 51,
     "metadata": {},
     "output_type": "execute_result"
    }
   ],
   "source": [
    "df_all_states= pd.read_csv('D:/CSV/all_states_2008.csv')\n",
    "df_all_states"
   ]
  },
  {
   "cell_type": "markdown",
   "id": "cda832c6",
   "metadata": {},
   "source": [
    "QUANTITATIVE EDA:"
   ]
  },
  {
   "cell_type": "code",
   "execution_count": 52,
   "id": "44d8a4e6",
   "metadata": {},
   "outputs": [
    {
     "name": "stdout",
     "output_type": "stream",
     "text": [
      "[31.98 41.77 51.28]\n"
     ]
    }
   ],
   "source": [
    "# Summary stats tht r immune to extreme data(outliers):median(50th percentile), but outliers r not always erroneous\n",
    "# 50th percentile: 50% of data are less than median, \n",
    "# 25th percentile:value of data point tht is greater than 25% of sorted data\n",
    "percentiles= np.percentile(df_all_states['dem_share'], [25,50,75])\n",
    "print(percentiles)"
   ]
  },
  {
   "cell_type": "code",
   "execution_count": 53,
   "id": "ed08db6b",
   "metadata": {},
   "outputs": [
    {
     "data": {
      "text/plain": [
       "east_west\n",
       "east    1607\n",
       "west    1546\n",
       "Name: state, dtype: int64"
      ]
     },
     "execution_count": 53,
     "metadata": {},
     "output_type": "execute_result"
    }
   ],
   "source": [
    "df_all_states.groupby('east_west').state.count()"
   ]
  },
  {
   "cell_type": "code",
   "execution_count": 54,
   "id": "59d62fab",
   "metadata": {},
   "outputs": [
    {
     "data": {
      "image/png": "[encoded data removed]",
      "text/plain": [
       "<Figure size 432x288 with 1 Axes>"
      ]
     },
     "metadata": {
      "needs_background": "light"
     },
     "output_type": "display_data"
    }
   ],
   "source": [
    "sns.boxplot(x='east_west', y='dem_share', data=df_all_states)\n",
    "plt.xlabel('region')\n",
    "plt.ylabel('percent of vote for Obama')\n",
    "plt.show()"
   ]
  },
  {
   "cell_type": "markdown",
   "id": "b85fb8eb",
   "metadata": {},
   "source": [
    "#### INSIGHT: east region of US had more vote share for Obama than west"
   ]
  },
  {
   "cell_type": "code",
   "execution_count": 55,
   "id": "8ede0804",
   "metadata": {},
   "outputs": [
    {
     "name": "stdout",
     "output_type": "stream",
     "text": [
      "45.476417910447765\n",
      "9.729595825615187\n",
      "\n",
      "44.31818181818181\n",
      "9.83931267756758\n",
      "\n",
      "41.32507462686568\n",
      "12.142602117687158\n"
     ]
    }
   ],
   "source": [
    "# VARIANCE: avg of squared dist from mean. 1/n(summation of (xi- X)^2), X is mean\n",
    "# sqrt root of variance is Standard Deviation which has same units of data(vote share of obama)\n",
    "print(np.mean(PA['dem_share']))\n",
    "print(np.std(PA['dem_share']))  \n",
    "print()\n",
    "\n",
    "print(np.mean(OH['dem_share']))\n",
    "print(np.std(OH['dem_share'])) \n",
    "print()\n",
    "\n",
    "print(np.mean(FL['dem_share']))\n",
    "print(np.std(FL['dem_share'])) \n",
    "# 41.32 +- 12.14 is within 1 standard deviation\n",
    "# FL is more spread than PA and OH"
   ]
  },
  {
   "cell_type": "code",
   "execution_count": 56,
   "id": "b8e6107e",
   "metadata": {},
   "outputs": [
    {
     "data": {
      "image/png": "[encoded data removed]",
      "text/plain": [
       "<Figure size 432x288 with 1 Axes>"
      ]
     },
     "metadata": {
      "needs_background": "light"
     },
     "output_type": "display_data"
    }
   ],
   "source": [
    "fig, ax=plt.subplots()\n",
    "ax.scatter(df['total_votes']/1000, df['dem_share'], marker='.')\n",
    "plt.xlabel('total votes (in thousands)')\n",
    "plt.ylabel('percent of vote for Obama')\n",
    "plt.margins(0.02)\n",
    "plt.show()"
   ]
  },
  {
   "cell_type": "markdown",
   "id": "28a88833",
   "metadata": {},
   "source": [
    "#### INSIGHT: 12 most populous counties all voted for obama n most of counties with small poplulation voted for mccain"
   ]
  },
  {
   "cell_type": "code",
   "execution_count": 57,
   "id": "f121a285",
   "metadata": {},
   "outputs": [
    {
     "name": "stdout",
     "output_type": "stream",
     "text": [
      "[[20245.10393632   817.30936184]\n",
      " [  817.30936184   114.76344739]]\n",
      "817.3093618405288\n"
     ]
    }
   ],
   "source": [
    "# COVARIANCE:\n",
    "# How Obama's vote share varies with total vote count(how both vary together): COVARIANCE.\n",
    "# taking mean of total vote and percent of vote, and takin them as axis.\n",
    "# If both x,y are positive-when county is populous then it has more votes for Obama-covariance is positive\n",
    "# how 2 variables depend on each other- covariance/std of x* std of y= Pearson correlation:\n",
    "#  dimensionless Quantity ranges from -1 to 1\n",
    "\n",
    "covariance_matrix= np.cov(df['total_votes']/1000, df['dem_share'])\n",
    "print(covariance_matrix)\n",
    "covariance= covariance_matrix[0,1]\n",
    "print(covariance)\n",
    "# other 2 values are its self-variance"
   ]
  },
  {
   "cell_type": "code",
   "execution_count": 58,
   "id": "bfeef31f",
   "metadata": {},
   "outputs": [
    {
     "name": "stdout",
     "output_type": "stream",
     "text": [
      "0.536197364958678\n"
     ]
    }
   ],
   "source": [
    "# CORRELATION:\n",
    "def pearson_r(x, y):\n",
    "    \"\"\"Compute Pearson correlation coefficient between two arrays.\"\"\"\n",
    "    # Compute correlation matrix: corr_mat\n",
    "    corr_mat=np.corrcoef(x,y )\n",
    "\n",
    "    # Return entry [0,1]\n",
    "    return corr_mat[0,1]\n",
    "\n",
    "# Compute Pearson correlation coefficient for I. versicolor: r\n",
    "r=pearson_r(df['total_votes'], df['dem_share'])\n",
    "\n",
    "# Print the result\n",
    "print(r)"
   ]
  },
  {
   "cell_type": "markdown",
   "id": "df326748",
   "metadata": {},
   "source": [
    "STATISTICAL INFERENCE: involves taking your data to probabilistic conclusions about what you would expect if you took even more data, and you can make decisions based on these conclusions."
   ]
  },
  {
   "cell_type": "code",
   "execution_count": 59,
   "id": "ee6f5953",
   "metadata": {},
   "outputs": [
    {
     "data": {
      "image/png": "[encoded data removed]",
      "text/plain": [
       "<Figure size 432x288 with 1 Axes>"
      ]
     },
     "metadata": {
      "needs_background": "light"
     },
     "output_type": "display_data"
    }
   ],
   "source": [
    "# This CDF is that of the Binomial distribution.\n",
    "# Take 10,000 samples out of the binomial distribution: n_defaults\n",
    "n_defaults= np.random.binomial(100, 0.05, size=10000)\n",
    "\n",
    "# Compute CDF: x, y\n",
    "x,y= ecdf(n_defaults)\n",
    "\n",
    "# Plot the CDF with axis labels\n",
    "plt.plot(x,y, linestyle='none', marker='.')\n",
    "plt.xlabel(\"no.of defaults out of 100 loans\")\n",
    "plt.ylabel(\"CDF\")\n",
    "\n",
    "# Show the plot\n",
    "plt.show()\n",
    "# higher the gradient, more distribution is going to b there around tht area "
   ]
  },
  {
   "cell_type": "code",
   "execution_count": 60,
   "id": "d8526720",
   "metadata": {},
   "outputs": [
    {
     "name": "stdout",
     "output_type": "stream",
     "text": [
      "10000\n",
      "13\n"
     ]
    }
   ],
   "source": [
    "print(len(n_defaults))\n",
    "print(max(n_defaults))"
   ]
  },
  {
   "cell_type": "code",
   "execution_count": 61,
   "id": "9d191a63",
   "metadata": {},
   "outputs": [
    {
     "data": {
      "image/png": "[encoded data removed]",
      "text/plain": [
       "<Figure size 432x288 with 1 Axes>"
      ]
     },
     "metadata": {
      "needs_background": "light"
     },
     "output_type": "display_data"
    }
   ],
   "source": [
    "# PMF of the Binomial distribution as a histogram\n",
    "# Compute bin edges: bins\n",
    "bins = np.arange(0, max(n_defaults) + 1.5) - 0.5\n",
    "\n",
    "# Generate histogram\n",
    "plt.hist(n_defaults, bins=bins, density=True)\n",
    "#density=True,it sets the height of bars such tht totla area of  bars is =1, this is called Normalisation.\n",
    "# SO tht Histogram approximates PMF, where area under PMF gives probability.\n",
    "\n",
    "# Label axes\n",
    "plt.xlabel(\"no.of defaults out of 100 loans \")\n",
    "plt.ylabel(\"PMF\")\n",
    "\n",
    "\n",
    "# Show the plot\n",
    "plt.show()\n",
    "\n",
    "# y axis values of pmf represents gradient/slope values of cdf "
   ]
  },
  {
   "cell_type": "code",
   "execution_count": 62,
   "id": "74f19ec0",
   "metadata": {},
   "outputs": [
    {
     "data": {
      "image/png": "[encoded data removed]",
      "text/plain": [
       "<Figure size 432x288 with 1 Axes>"
      ]
     },
     "metadata": {
      "needs_background": "light"
     },
     "output_type": "display_data"
    }
   ],
   "source": [
    "# PDF: Area under Pdf gives Probabilities.\n",
    "# Draw 100000 samples from Normal distribution with stds of interest: samples_std1, samples_std3, samples_std10\n",
    "samples_std1 = np.random.normal(20, 1,size=100000)\n",
    "samples_std3 = np.random.normal(20, 3,size=100000)\n",
    "samples_std10= np.random.normal(20, 10,size=100000)\n",
    "\n",
    "# Make histograms\n",
    "plt.hist(samples_std1, bins=100, histtype='step', density=True)\n",
    "plt.hist(samples_std3, bins=100, histtype='step', density=True)\n",
    "plt.hist(samples_std10, bins=100, histtype='step', density=True)\n",
    "\n",
    "# Make a legend, set limits and show plot\n",
    "_ = plt.legend(('std = 1', 'std = 3', 'std = 10'))\n",
    "plt.ylim(-0.01, 0.42)\n",
    "plt.show()\n"
   ]
  },
  {
   "cell_type": "code",
   "execution_count": 63,
   "id": "d63196ee",
   "metadata": {},
   "outputs": [
    {
     "data": {
      "image/png": "[encoded data removed]",
      "text/plain": [
       "<Figure size 432x288 with 1 Axes>"
      ]
     },
     "metadata": {
      "needs_background": "light"
     },
     "output_type": "display_data"
    }
   ],
   "source": [
    "# shape of its CDFs\n",
    "# Generate CDFs\n",
    "x_std1, y_std1=ecdf(samples_std1)\n",
    "x_std3, y_std3=ecdf(samples_std3)\n",
    "x_std10, y_std10=ecdf(samples_std10)\n",
    "\n",
    "# Plot CDFs\n",
    "plt.plot(x_std1, y_std1, linestyle='none', marker='.')\n",
    "plt.plot(x_std3, y_std3, linestyle='none', marker='.')\n",
    "plt.plot(x_std10, y_std10, linestyle='none', marker='.')\n",
    "\n",
    "# Make a legend and show the plot\n",
    "_ = plt.legend(('std = 1', 'std = 3', 'std = 10'), loc='lower right')\n",
    "plt.show()\n"
   ]
  },
  {
   "cell_type": "markdown",
   "id": "9b9a8b30",
   "metadata": {},
   "source": [
    "#### INSIGHT: The CDFs all pass through the mean at the 50th percentile; the mean and median of a Normal distribution are equal. The width of the CDF varies with the standard deviation. More the gradient/slope of CDF, higher will be the y axis values of PMF "
   ]
  },
  {
   "cell_type": "markdown",
   "id": "59d413e9",
   "metadata": {},
   "source": [
    "POISSON PROCESS: timing of next event is completely independent of when previous event happened.\n",
    "Eg: natural births in given hospital,meteor strikes\n"
   ]
  },
  {
   "cell_type": "code",
   "execution_count": 64,
   "id": "7e00819f",
   "metadata": {},
   "outputs": [
    {
     "name": "stdout",
     "output_type": "stream",
     "text": [
      "Poisson:      10.0437 3.1927715718478824\n",
      "n = 20 Binom: 9.9992 2.234099227876864\n",
      "n = 100 Binom: 10.0363 2.9764042584971553\n",
      "n = 1000 Binom: 10.0005 3.165738420969111\n"
     ]
    }
   ],
   "source": [
    "# Draw 10,000 samples out of Poisson distribution: samples_poisson\n",
    "samples_poisson= np.random.poisson(10, size=10000) #10 is mean number of successes per time interval\n",
    "\n",
    "# Print the mean and standard deviation\n",
    "print('Poisson:     ', np.mean(samples_poisson),\n",
    "                       np.std(samples_poisson))\n",
    "\n",
    "# Specify values of n and p to consider for Binomial: n, p, so that np is always 10.\n",
    "n = [20, 100, 1000] \n",
    "p = [0.5, 0.1, 0.01]\n",
    "\n",
    "# Draw 10,000 samples for each n,p pair: samples_binomial\n",
    "for i in range(3):\n",
    "    samples_binomial = np.random.binomial(n[i], p[i], size=10000) #n is benoulli trails, p is probability of success\n",
    "\n",
    "    # Print results\n",
    "    print('n =', n[i], 'Binom:', np.mean(samples_binomial),\n",
    "                                 np.std(samples_binomial))\n"
   ]
  },
  {
   "cell_type": "markdown",
   "id": "dd8d407c",
   "metadata": {},
   "source": [
    "#### INSIGHT: The means are all about the same. The standard deviation of the Binomial distribution gets closer and closer to that of the Poisson distribution as the probability p gets lower and lower. So, the Poisson distribution with arrival rate equal to np approximates a Binomial distribution for n Bernoulli trials with probability p of success (with n large and p small)"
   ]
  },
  {
   "cell_type": "markdown",
   "id": "fc58b53b",
   "metadata": {},
   "source": [
    "Since 1926, the Belmont Stakes is a 1.5 mile-long race of 3-year old thoroughbred horses. Secretariat ran the fastest Belmont Stakes in history in 1973. While that was the fastest year, 1970 was the slowest because of unusually wet and sloppy conditions. With these two outliers removed from the data set, compute the mean and standard deviation of the Belmont winners' times."
   ]
  },
  {
   "cell_type": "code",
   "execution_count": 65,
   "id": "1efa7556",
   "metadata": {},
   "outputs": [],
   "source": [
    "belmont_no_outliers= np.array([148.51, 146.65, 148.52, 150.7 , 150.42, 150.88, 151.57, 147.54,\n",
    "       149.65, 148.74, 147.86, 148.75, 147.5 , 148.26, 149.71, 146.56,\n",
    "       151.19, 147.88, 149.16, 148.82, 148.96, 152.02, 146.82, 149.97,\n",
    "       146.13, 148.1 , 147.2 , 146.  , 146.4 , 148.2 , 149.8 , 147.  ,\n",
    "       147.2 , 147.8 , 148.2 , 149.  , 149.8 , 148.6 , 146.8 , 149.6 ,\n",
    "       149.  , 148.2 , 149.2 , 148.  , 150.4 , 148.8 , 147.2 , 148.8 ,\n",
    "       149.6 , 148.4 , 148.4 , 150.2 , 148.8 , 149.2 , 149.2 , 148.4 ,\n",
    "       150.2 , 146.6 , 149.8 , 149.  , 150.8 , 148.6 , 150.2 , 149.  ,\n",
    "       148.6 , 150.2 , 148.2 , 149.4 , 150.8 , 150.2 , 152.2 , 148.2 ,\n",
    "       149.2 , 151.  , 149.6 , 149.6 , 149.4 , 148.6 , 150.  , 150.6 ,\n",
    "       149.2 , 152.6 , 152.8 , 149.6 , 151.6 , 152.8 , 153.2 , 152.4 ,\n",
    "       152.2 ])"
   ]
  },
  {
   "cell_type": "code",
   "execution_count": 66,
   "id": "de1f802d",
   "metadata": {},
   "outputs": [
    {
     "data": {
      "text/plain": [
       "(89,)"
      ]
     },
     "execution_count": 66,
     "metadata": {},
     "output_type": "execute_result"
    }
   ],
   "source": [
    "belmont_no_outliers.shape"
   ]
  },
  {
   "cell_type": "code",
   "execution_count": 67,
   "id": "75c4c95d",
   "metadata": {},
   "outputs": [
    {
     "name": "stdout",
     "output_type": "stream",
     "text": [
      "149.22101123595507 1.6186456017743405\n"
     ]
    },
    {
     "data": {
      "image/png": "[encoded data removed]",
      "text/plain": [
       "<Figure size 432x288 with 1 Axes>"
      ]
     },
     "metadata": {
      "needs_background": "light"
     },
     "output_type": "display_data"
    }
   ],
   "source": [
    "# Compute mean and standard deviation: mu, sigma\n",
    "mu=np.mean(belmont_no_outliers)\n",
    "sigma= np.std(belmont_no_outliers)\n",
    "print(mu, sigma)\n",
    "\n",
    "# Sample out of a normal distribution with this mu and sigma: samples\n",
    "samples=np.random.normal(mu, sigma, size=10000)\n",
    "\n",
    "# Get the CDF of the samples and of the data\n",
    "x,y= ecdf(belmont_no_outliers)\n",
    "x_theor, y_theor= ecdf(samples)\n",
    "\n",
    "# Plot the CDFs and show the plot\n",
    "_ = plt.plot(x_theor, y_theor)\n",
    "_ = plt.plot(x, y, marker='.', linestyle='none')\n",
    "_ = plt.xlabel('Belmont winning time (sec.)')\n",
    "_ = plt.ylabel('CDF')\n",
    "plt.show()\n"
   ]
  },
  {
   "cell_type": "markdown",
   "id": "a26249ad",
   "metadata": {},
   "source": [
    "#### INSIGHT: The theoretical CDF and the ECDF of the data suggest that the winning Belmont times are, indeed, Normally distributed. This also suggests that in the last 100 years or so, there have not been major technological or training advances that have significantly affected the speed at which horses can run this race."
   ]
  },
  {
   "cell_type": "code",
   "execution_count": 68,
   "id": "8af87e1a",
   "metadata": {},
   "outputs": [
    {
     "name": "stdout",
     "output_type": "stream",
     "text": [
      "Probability of besting Secretariat: 0.000637\n"
     ]
    }
   ],
   "source": [
    "# Take a million samples out of the Normal distribution: samples\n",
    "samples= np.random.normal(mu, sigma, size=1000000)\n",
    "\n",
    "# Compute the fraction that are faster than 144 seconds: prob\n",
    "prob= np.sum(samples<=144)/len(samples)\n",
    "\n",
    "# Print the result\n",
    "print('Probability of besting Secretariat:', prob)\n"
   ]
  },
  {
   "cell_type": "markdown",
   "id": "7d967f80",
   "metadata": {},
   "source": [
    "#### INSIGHT: We had to take a million samples because the probability of a fast time is very low and we had to be sure to sample enough. We get that there is only a 0.06% chance of a horse running the Belmont as fast as Secretariat."
   ]
  },
  {
   "cell_type": "markdown",
   "id": "983264eb",
   "metadata": {},
   "source": [
    "we looked at the rare event of no-hitters in Major League Baseball. Hitting the cycle, when a batter gets all four kinds of hits in a single game, is another rare baseball event. Like no-hitters, this can be modeled as a Poisson process, so the time between hits of the cycle are also Exponentially distributed.\n",
    "what is the total waiting time for the arrival of two different Poisson processes in succession? The total waiting time is the time waited for the no-hitter, plus the time waited for the hitting the cycle."
   ]
  },
  {
   "cell_type": "code",
   "execution_count": 76,
   "id": "2c3a533c",
   "metadata": {},
   "outputs": [],
   "source": [
    "def successive_poisson(tau1, tau2, size=100000):\n",
    "    \"\"\"Compute time for arrival of 2 successive Poisson processes.\"\"\"\n",
    "    # Draw samples out of first exponential distribution: t1\n",
    "    t1 = np.random.exponential(tau1, size=100000)\n",
    "#     print(t1.shape)\n",
    "    # Draw samples out of second exponential distribution: t2\n",
    "    t2 = np.random.exponential(tau2, size=100000)\n",
    "#     print(t2.shape)\n",
    "    total_waiting_time=t1+t2\n",
    "#     print(total_waiting_time.shape)\n",
    "    return total_waiting_time"
   ]
  },
  {
   "cell_type": "markdown",
   "id": "cba0de01",
   "metadata": {},
   "source": [
    "using your sampling function to compute the waiting time to observe a no-hitter and hitting of the cycle. The mean waiting time for a no-hitter is 764 games, and the mean waiting time for hitting the cycle is 715 games."
   ]
  },
  {
   "cell_type": "code",
   "execution_count": 77,
   "id": "b9d9ea90",
   "metadata": {},
   "outputs": [
    {
     "data": {
      "image/png": "[encoded data removed]",
      "text/plain": [
       "<Figure size 432x288 with 1 Axes>"
      ]
     },
     "metadata": {
      "needs_background": "light"
     },
     "output_type": "display_data"
    }
   ],
   "source": [
    "# Draw samples of waiting times: waiting_times\n",
    "waiting_times= successive_poisson(764, 715)\n",
    "\n",
    "# Make the histogram\n",
    "plt.hist(waiting_times, bins=100, density=True,  histtype='step')\n",
    "\n",
    "\n",
    "# Label axes\n",
    "plt.xlabel(\"Games between (no-hitters plus hitting-cycle successively)\")\n",
    "plt.ylabel(\"PDF\") #approximation to the PDF\n",
    "\n",
    "# Show the plot\n",
    "plt.show()\n"
   ]
  },
  {
   "cell_type": "markdown",
   "id": "9e6f6cb5",
   "metadata": {},
   "source": [
    "#### INSIGHT: probability density is too less about 0.0005 tht these events will happen successively"
   ]
  },
  {
   "cell_type": "markdown",
   "id": "cf145505",
   "metadata": {},
   "source": [
    "The number of games played between each no-hitter in the modern era (1901-2015) of Major League Baseball is stored in the array nohitter_times"
   ]
  },
  {
   "cell_type": "code",
   "execution_count": 71,
   "id": "574fca16",
   "metadata": {},
   "outputs": [],
   "source": [
    "nohitter_times= np.array([ 843, 1613, 1101,  215,  684,  814,  278,  324,  161,  219,  545,\n",
    "        715,  966,  624,   29,  450,  107,   20,   91, 1325,  124, 1468,\n",
    "        104, 1309,  429,   62, 1878, 1104,  123,  251,   93,  188,  983,\n",
    "        166,   96,  702,   23,  524,   26,  299,   59,   39,   12,    2,\n",
    "        308, 1114,  813,  887,  645, 2088,   42, 2090,   11,  886, 1665,\n",
    "       1084, 2900, 2432,  750, 4021, 1070, 1765, 1322,   26,  548, 1525,\n",
    "         77, 2181, 2752,  127, 2147,  211,   41, 1575,  151,  479,  697,\n",
    "        557, 2267,  542,  392,   73,  603,  233,  255,  528,  397, 1529,\n",
    "       1023, 1194,  462,  583,   37,  943,  996,  480, 1497,  717,  224,\n",
    "        219, 1531,  498,   44,  288,  267,  600,   52,  269, 1086,  386,\n",
    "        176, 2199,  216,   54,  675, 1243,  463,  650,  171,  327,  110,\n",
    "        774,  509,    8,  197,  136,   12, 1124,   64,  380,  811,  232,\n",
    "        192,  731,  715,  226,  605,  539, 1491,  323,  240,  179,  702,\n",
    "        156,   82, 1397,  354,  778,  603, 1001,  385,  986,  203,  149,\n",
    "        576,  445,  180, 1403,  252,  675, 1351, 2983, 1568,   45,  899,\n",
    "       3260, 1025,   31,  100, 2055, 4043,   79,  238, 3931, 2351,  595,\n",
    "        110,  215,    0,  563,  206,  660,  242,  577,  179,  157,  192,\n",
    "        192, 1848,  792, 1693,   55,  388,  225, 1134, 1172, 1555,   31,\n",
    "       1582, 1044,  378, 1687, 2915,  280,  765, 2819,  511, 1521,  745,\n",
    "       2491,  580, 2072, 6450,  578,  745, 1075, 1103, 1549, 1520,  138,\n",
    "       1202,  296,  277,  351,  391,  950,  459,   62, 1056, 1128,  139,\n",
    "        420,   87,   71,  814,  603, 1349,  162, 1027,  783,  326,  101,\n",
    "        876,  381,  905,  156,  419,  239,  119,  129,  467])"
   ]
  },
  {
   "cell_type": "code",
   "execution_count": 87,
   "id": "251592aa",
   "metadata": {},
   "outputs": [
    {
     "data": {
      "image/png": "[encoded data removed]",
      "text/plain": [
       "<Figure size 432x288 with 1 Axes>"
      ]
     },
     "metadata": {},
     "output_type": "display_data"
    },
    {
     "data": {
      "image/png": "[encoded data removed]",
      "text/plain": [
       "<Figure size 432x288 with 1 Axes>"
      ]
     },
     "metadata": {},
     "output_type": "display_data"
    }
   ],
   "source": [
    "sns.set()\n",
    "# Seed random number generator\n",
    "np.random.seed(42)\n",
    "\n",
    "# Compute mean no-hitter time: tau\n",
    "tau = np.mean(nohitter_times)\n",
    "\n",
    "# Draw out of an exponential distribution with parameter tau: inter_nohitter_time\n",
    "inter_nohitter_time = np.random.exponential(tau, 100000)\n",
    "\n",
    "# Plot the PDF and label axes\n",
    "_ = plt.hist(inter_nohitter_time,\n",
    "           bins=50, density=True,  histtype='step')\n",
    "_ = plt.xlabel('Games between no-hitters')\n",
    "_ = plt.ylabel('PDF') #approximation to the PDF\n",
    "\n",
    "# Show the plot\n",
    "plt.show()\n",
    "#  We see the typical shape of the Exponential distribution, going from a maximum at 0 and decaying to the right.\n",
    "x,y= ecdf(nohitter_times)\n",
    "plt.plot(x,y, linestyle=\"none\", marker='.')\n",
    "_ = plt.xlabel('Games between no-hitters')\n",
    "_ = plt.ylabel('ECDF') #approximation to the PDF\n",
    "plt.show()\n",
    "# print(inter_nohitter_time)"
   ]
  },
  {
   "cell_type": "markdown",
   "id": "aeeb5e30",
   "metadata": {},
   "source": [
    "#### INSIGHT: 1000 games or less games b/w no-hitters have approx 70% chance of happenning, 2000 games or less b/w no-hitters have 90% chance of happening. Max there can b 6000 games or less games have 100%chance of happening b/w no-hitter game"
   ]
  },
  {
   "cell_type": "code",
   "execution_count": 73,
   "id": "6ff1b047",
   "metadata": {},
   "outputs": [
    {
     "data": {
      "image/png": "[encoded data removed]",
      "text/plain": [
       "<Figure size 432x288 with 1 Axes>"
      ]
     },
     "metadata": {
      "needs_background": "light"
     },
     "output_type": "display_data"
    }
   ],
   "source": [
    "# Create an ECDF from real data: x, y\n",
    "x, y = ecdf(nohitter_times)\n",
    "\n",
    "# Create a CDF from theoretical samples: x_theor, y_theor\n",
    "x_theor, y_theor = ecdf(inter_nohitter_time)\n",
    "\n",
    "# Overlay the plots\n",
    "plt.plot(x_theor , y_theor, marker='.', linestyle='none')\n",
    "plt.plot(x,y, marker='.', linestyle='none')\n",
    "\n",
    "# Margins and axis labels\n",
    "plt.margins(0.02)\n",
    "plt.xlabel('Games between no-hitters')\n",
    "plt.ylabel('CDF')\n",
    "\n",
    "# Show the plot\n",
    "plt.show()"
   ]
  },
  {
   "cell_type": "markdown",
   "id": "590117ee",
   "metadata": {},
   "source": [
    "#### INSIGHT: Exponential distribution describes the observed data(as graph seems diff from nomal ecdf graph, it also resembles exponential func graph). Based on the story of the Exponential distribution, this suggests that they are a random process; when a no-hitter will happen is independent of when the last no-hitter was."
   ]
  },
  {
   "cell_type": "code",
   "execution_count": 74,
   "id": "8c7cb9bc",
   "metadata": {},
   "outputs": [
    {
     "data": {
      "image/png": "[encoded data removed]",
      "text/plain": [
       "<Figure size 432x288 with 1 Axes>"
      ]
     },
     "metadata": {
      "needs_background": "light"
     },
     "output_type": "display_data"
    }
   ],
   "source": [
    "# Plot the theoretical CDFs\n",
    "plt.plot(x_theor, y_theor)\n",
    "plt.plot(x, y, marker='.', linestyle='none')\n",
    "plt.margins(0.02)\n",
    "plt.xlabel('Games between no-hitters')\n",
    "plt.ylabel('CDF')\n",
    "\n",
    "# Take samples with half tau: samples_half\n",
    "samples_half = np.random.exponential(tau/2, size=10000)\n",
    "\n",
    "# Take samples with double tau: samples_double\n",
    "samples_double = np.random.exponential(2*tau, size=10000)\n",
    "\n",
    "# Generate CDFs from these samples\n",
    "x_half, y_half = ecdf(samples_half)\n",
    "x_double, y_double = ecdf(samples_double)\n",
    "\n",
    "# Plot these CDFs as lines\n",
    "_ = plt.plot(x_half, y_half)\n",
    "_ = plt.plot(x_double, y_double)\n",
    "\n",
    "# Show the plot\n",
    "plt.show()"
   ]
  },
  {
   "cell_type": "markdown",
   "id": "e7c4b5f9",
   "metadata": {},
   "source": [
    "#### INSIGHT: the value of tau given by the mean matches the data best. In this way, tau is an optimal parameter."
   ]
  },
  {
   "cell_type": "code",
   "execution_count": null,
   "id": "5ade88eb",
   "metadata": {},
   "outputs": [],
   "source": []
  },
  {
   "cell_type": "code",
   "execution_count": null,
   "id": "7233547f",
   "metadata": {},
   "outputs": [],
   "source": []
  },
  {
   "cell_type": "code",
   "execution_count": null,
   "id": "ce72a254",
   "metadata": {},
   "outputs": [],
   "source": []
  },
  {
   "cell_type": "code",
   "execution_count": null,
   "id": "526e9598",
   "metadata": {},
   "outputs": [],
   "source": []
  },
  {
   "cell_type": "code",
   "execution_count": null,
   "id": "2c417481",
   "metadata": {},
   "outputs": [],
   "source": []
  }
 ],
 "metadata": {
  "kernelspec": {
   "display_name": "Python 3 (ipykernel)",
   "language": "python",
   "name": "python3"
  },
  "language_info": {
   "codemirror_mode": {
    "name": "ipython",
    "version": 3
   },
   "file_extension": ".py",
   "mimetype": "text/x-python",
   "name": "python",
   "nbconvert_exporter": "python",
   "pygments_lexer": "ipython3",
   "version": "3.9.7"
  }
 },
 "nbformat": 4,
 "nbformat_minor": 5
}

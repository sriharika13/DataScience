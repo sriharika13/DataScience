{
 "cells": [
  {
   "cell_type": "markdown",
   "id": "381f05eb",
   "metadata": {},
   "source": [
    "# THE STANFORD OPEN POLICING PROJECT ANALYSIS: \n",
    "## On a typical day in the United States, police officers make more than 50,000 traffic stops. "
   ]
  },
  {
   "cell_type": "code",
   "execution_count": 46,
   "id": "2a21d04a",
   "metadata": {},
   "outputs": [
    {
     "name": "stdout",
     "output_type": "stream",
     "text": [
      "  state   stop_date stop_time  county_name driver_gender driver_race  \\\n",
      "0    RI  2005-01-04     12:55          NaN             M       White   \n",
      "1    RI  2005-01-23     23:15          NaN             M       White   \n",
      "2    RI  2005-02-17     04:15          NaN             M       White   \n",
      "3    RI  2005-02-20     17:15          NaN             M       White   \n",
      "4    RI  2005-02-24     01:20          NaN             F       White   \n",
      "\n",
      "                    violation_raw  violation  search_conducted search_type  \\\n",
      "0  Equipment/Inspection Violation  Equipment             False         NaN   \n",
      "1                        Speeding   Speeding             False         NaN   \n",
      "2                        Speeding   Speeding             False         NaN   \n",
      "3                Call for Service      Other             False         NaN   \n",
      "4                        Speeding   Speeding             False         NaN   \n",
      "\n",
      "    stop_outcome is_arrested stop_duration  drugs_related_stop district  \n",
      "0       Citation       False      0-15 Min               False  Zone X4  \n",
      "1       Citation       False      0-15 Min               False  Zone K3  \n",
      "2       Citation       False      0-15 Min               False  Zone X4  \n",
      "3  Arrest Driver        True     16-30 Min               False  Zone X1  \n",
      "4       Citation       False      0-15 Min               False  Zone X3  \n"
     ]
    }
   ],
   "source": [
    "import pandas as pd\n",
    "df=pd.read_csv('D:\\CSV\\police.csv')\n",
    "print(df.head())"
   ]
  },
  {
   "cell_type": "code",
   "execution_count": 47,
   "id": "2948946f",
   "metadata": {},
   "outputs": [
    {
     "data": {
      "text/plain": [
       "(91741, 15)"
      ]
     },
     "execution_count": 47,
     "metadata": {},
     "output_type": "execute_result"
    }
   ],
   "source": [
    "df.shape"
   ]
  },
  {
   "cell_type": "code",
   "execution_count": 48,
   "id": "7932ae82",
   "metadata": {},
   "outputs": [
    {
     "data": {
      "text/plain": [
       "state                     0\n",
       "stop_date                 0\n",
       "stop_time                 0\n",
       "county_name           91741\n",
       "driver_gender          5205\n",
       "driver_race            5202\n",
       "violation_raw          5202\n",
       "violation              5202\n",
       "search_conducted          0\n",
       "search_type           88434\n",
       "stop_outcome           5202\n",
       "is_arrested            5202\n",
       "stop_duration          5202\n",
       "drugs_related_stop        0\n",
       "district                  0\n",
       "dtype: int64"
      ]
     },
     "execution_count": 48,
     "metadata": {},
     "output_type": "execute_result"
    }
   ],
   "source": [
    "df.isnull().sum()"
   ]
  },
  {
   "cell_type": "code",
   "execution_count": 49,
   "id": "2093e221",
   "metadata": {},
   "outputs": [],
   "source": [
    "# dataset is about Rhod Island(RI) so we can remove country column\n",
    "df.drop([\"county_name\"], axis=1, inplace=True)"
   ]
  },
  {
   "cell_type": "markdown",
   "id": "7f3d9a10",
   "metadata": {},
   "source": [
    "### Set of Questions we can ask:\n",
    "1. how many years data was recorded\n",
    "2. which gender driver was driving vehicle the most wrt their age and race\n",
    "3. which type of voilation was seen most and wht was the outcome(arrested?)\n",
    "4. stop duration vs driver race and, wht was stop outcome, how many drug related stop?\n",
    "5. normalisation required?\n",
    "<!-- outliers\n",
    "correlation\n",
    "covariance  -->\n",
    "\n",
    "5. Do the gender commit diff violations?\n",
    "6. Most common stop_outcome?"
   ]
  },
  {
   "cell_type": "code",
   "execution_count": 50,
   "id": "2c87edda",
   "metadata": {},
   "outputs": [
    {
     "name": "stdout",
     "output_type": "stream",
     "text": [
      "<class 'pandas.core.frame.DataFrame'>\n",
      "RangeIndex: 91741 entries, 0 to 91740\n",
      "Data columns (total 14 columns):\n",
      " #   Column              Non-Null Count  Dtype \n",
      "---  ------              --------------  ----- \n",
      " 0   state               91741 non-null  object\n",
      " 1   stop_date           91741 non-null  object\n",
      " 2   stop_time           91741 non-null  object\n",
      " 3   driver_gender       86536 non-null  object\n",
      " 4   driver_race         86539 non-null  object\n",
      " 5   violation_raw       86539 non-null  object\n",
      " 6   violation           86539 non-null  object\n",
      " 7   search_conducted    91741 non-null  bool  \n",
      " 8   search_type         3307 non-null   object\n",
      " 9   stop_outcome        86539 non-null  object\n",
      " 10  is_arrested         86539 non-null  object\n",
      " 11  stop_duration       86539 non-null  object\n",
      " 12  drugs_related_stop  91741 non-null  bool  \n",
      " 13  district            91741 non-null  object\n",
      "dtypes: bool(2), object(12)\n",
      "memory usage: 8.6+ MB\n"
     ]
    }
   ],
   "source": [
    "# df.dropna(subset=['driver_gender'], inplace=True)\n",
    "# should i drop it?\n",
    "\n",
    "df.info()"
   ]
  },
  {
   "cell_type": "code",
   "execution_count": 51,
   "id": "ac8c0d88",
   "metadata": {},
   "outputs": [],
   "source": [
    "# convert date column\n",
    "# should i index year column?\n",
    "# driver_gender can be label encoded\n",
    "# take out driver_ages from driver_age_raw column(year data was recorded is 2005), after tht column not needed\n",
    "# is_arrested dtype convert to bool\n",
    "# stop_duration?\n",
    "#femal vs male violation stacked chart?"
   ]
  },
  {
   "cell_type": "code",
   "execution_count": 52,
   "id": "63b5055f",
   "metadata": {},
   "outputs": [
    {
     "data": {
      "text/plain": [
       "dtype('O')"
      ]
     },
     "execution_count": 52,
     "metadata": {},
     "output_type": "execute_result"
    }
   ],
   "source": [
    "df['is_arrested'].dtype"
   ]
  },
  {
   "cell_type": "code",
   "execution_count": 53,
   "id": "6b578c04",
   "metadata": {},
   "outputs": [
    {
     "data": {
      "text/plain": [
       "False    83461\n",
       "NaN       5202\n",
       "True      3078\n",
       "Name: is_arrested, dtype: int64"
      ]
     },
     "execution_count": 53,
     "metadata": {},
     "output_type": "execute_result"
    }
   ],
   "source": [
    "df.is_arrested.value_counts(dropna=False)"
   ]
  },
  {
   "cell_type": "code",
   "execution_count": 54,
   "id": "3ebb2c4b",
   "metadata": {},
   "outputs": [
    {
     "data": {
      "text/plain": [
       "dtype('bool')"
      ]
     },
     "execution_count": 54,
     "metadata": {},
     "output_type": "execute_result"
    }
   ],
   "source": [
    "df['is_arrested']= df.is_arrested.astype('bool') #overwritted series\n",
    "df['is_arrested'].dtype"
   ]
  },
  {
   "cell_type": "code",
   "execution_count": 55,
   "id": "214a950d",
   "metadata": {},
   "outputs": [
    {
     "data": {
      "text/plain": [
       "False    83461\n",
       "True      8280\n",
       "Name: is_arrested, dtype: int64"
      ]
     },
     "execution_count": 55,
     "metadata": {},
     "output_type": "execute_result"
    }
   ],
   "source": [
    "df.is_arrested.value_counts(dropna=False)"
   ]
  },
  {
   "cell_type": "code",
   "execution_count": 56,
   "id": "9e00e54f",
   "metadata": {},
   "outputs": [
    {
     "data": {
      "text/plain": [
       "0-15 Min     69579\n",
       "16-30 Min    13740\n",
       "NaN           5202\n",
       "30+ Min       3220\n",
       "Name: stop_duration, dtype: int64"
      ]
     },
     "execution_count": 56,
     "metadata": {},
     "output_type": "execute_result"
    }
   ],
   "source": [
    "df.stop_duration.value_counts(dropna=False)"
   ]
  },
  {
   "cell_type": "code",
   "execution_count": 57,
   "id": "9b78dae7",
   "metadata": {},
   "outputs": [
    {
     "data": {
      "text/plain": [
       "0        2005-01-04 12:55\n",
       "1        2005-01-23 23:15\n",
       "2        2005-02-17 04:15\n",
       "3        2005-02-20 17:15\n",
       "4        2005-02-24 01:20\n",
       "               ...       \n",
       "91736    2015-12-31 21:21\n",
       "91737    2015-12-31 21:59\n",
       "91738    2015-12-31 22:04\n",
       "91739    2015-12-31 22:09\n",
       "91740    2015-12-31 22:47\n",
       "Name: stop_date, Length: 91741, dtype: object"
      ]
     },
     "execution_count": 57,
     "metadata": {},
     "output_type": "execute_result"
    }
   ],
   "source": [
    "# combining all dateTime columns into 1 column and convert to tht format\n",
    "df.stop_date.str.replace('/', '-')\n",
    "# print(df.head())\n",
    "combined= df.stop_date.str.cat(df.stop_time, sep=' ')\n",
    "combined"
   ]
  },
  {
   "cell_type": "code",
   "execution_count": 58,
   "id": "5a7f4f5e",
   "metadata": {},
   "outputs": [
    {
     "data": {
      "text/html": [
       "<div>\n",
       "<style scoped>\n",
       "    .dataframe tbody tr th:only-of-type {\n",
       "        vertical-align: middle;\n",
       "    }\n",
       "\n",
       "    .dataframe tbody tr th {\n",
       "        vertical-align: top;\n",
       "    }\n",
       "\n",
       "    .dataframe thead th {\n",
       "        text-align: right;\n",
       "    }\n",
       "</style>\n",
       "<table border=\"1\" class=\"dataframe\">\n",
       "  <thead>\n",
       "    <tr style=\"text-align: right;\">\n",
       "      <th></th>\n",
       "      <th>state</th>\n",
       "      <th>stop_date</th>\n",
       "      <th>stop_time</th>\n",
       "      <th>driver_gender</th>\n",
       "      <th>driver_race</th>\n",
       "      <th>violation_raw</th>\n",
       "      <th>violation</th>\n",
       "      <th>search_conducted</th>\n",
       "      <th>search_type</th>\n",
       "      <th>stop_outcome</th>\n",
       "      <th>is_arrested</th>\n",
       "      <th>stop_duration</th>\n",
       "      <th>drugs_related_stop</th>\n",
       "      <th>district</th>\n",
       "      <th>stop_date_time</th>\n",
       "    </tr>\n",
       "  </thead>\n",
       "  <tbody>\n",
       "    <tr>\n",
       "      <th>0</th>\n",
       "      <td>RI</td>\n",
       "      <td>2005-01-04</td>\n",
       "      <td>12:55</td>\n",
       "      <td>M</td>\n",
       "      <td>White</td>\n",
       "      <td>Equipment/Inspection Violation</td>\n",
       "      <td>Equipment</td>\n",
       "      <td>False</td>\n",
       "      <td>NaN</td>\n",
       "      <td>Citation</td>\n",
       "      <td>False</td>\n",
       "      <td>0-15 Min</td>\n",
       "      <td>False</td>\n",
       "      <td>Zone X4</td>\n",
       "      <td>2005-01-04 12:55:00</td>\n",
       "    </tr>\n",
       "    <tr>\n",
       "      <th>1</th>\n",
       "      <td>RI</td>\n",
       "      <td>2005-01-23</td>\n",
       "      <td>23:15</td>\n",
       "      <td>M</td>\n",
       "      <td>White</td>\n",
       "      <td>Speeding</td>\n",
       "      <td>Speeding</td>\n",
       "      <td>False</td>\n",
       "      <td>NaN</td>\n",
       "      <td>Citation</td>\n",
       "      <td>False</td>\n",
       "      <td>0-15 Min</td>\n",
       "      <td>False</td>\n",
       "      <td>Zone K3</td>\n",
       "      <td>2005-01-23 23:15:00</td>\n",
       "    </tr>\n",
       "    <tr>\n",
       "      <th>2</th>\n",
       "      <td>RI</td>\n",
       "      <td>2005-02-17</td>\n",
       "      <td>04:15</td>\n",
       "      <td>M</td>\n",
       "      <td>White</td>\n",
       "      <td>Speeding</td>\n",
       "      <td>Speeding</td>\n",
       "      <td>False</td>\n",
       "      <td>NaN</td>\n",
       "      <td>Citation</td>\n",
       "      <td>False</td>\n",
       "      <td>0-15 Min</td>\n",
       "      <td>False</td>\n",
       "      <td>Zone X4</td>\n",
       "      <td>2005-02-17 04:15:00</td>\n",
       "    </tr>\n",
       "    <tr>\n",
       "      <th>3</th>\n",
       "      <td>RI</td>\n",
       "      <td>2005-02-20</td>\n",
       "      <td>17:15</td>\n",
       "      <td>M</td>\n",
       "      <td>White</td>\n",
       "      <td>Call for Service</td>\n",
       "      <td>Other</td>\n",
       "      <td>False</td>\n",
       "      <td>NaN</td>\n",
       "      <td>Arrest Driver</td>\n",
       "      <td>True</td>\n",
       "      <td>16-30 Min</td>\n",
       "      <td>False</td>\n",
       "      <td>Zone X1</td>\n",
       "      <td>2005-02-20 17:15:00</td>\n",
       "    </tr>\n",
       "    <tr>\n",
       "      <th>4</th>\n",
       "      <td>RI</td>\n",
       "      <td>2005-02-24</td>\n",
       "      <td>01:20</td>\n",
       "      <td>F</td>\n",
       "      <td>White</td>\n",
       "      <td>Speeding</td>\n",
       "      <td>Speeding</td>\n",
       "      <td>False</td>\n",
       "      <td>NaN</td>\n",
       "      <td>Citation</td>\n",
       "      <td>False</td>\n",
       "      <td>0-15 Min</td>\n",
       "      <td>False</td>\n",
       "      <td>Zone X3</td>\n",
       "      <td>2005-02-24 01:20:00</td>\n",
       "    </tr>\n",
       "  </tbody>\n",
       "</table>\n",
       "</div>"
      ],
      "text/plain": [
       "  state   stop_date stop_time driver_gender driver_race  \\\n",
       "0    RI  2005-01-04     12:55             M       White   \n",
       "1    RI  2005-01-23     23:15             M       White   \n",
       "2    RI  2005-02-17     04:15             M       White   \n",
       "3    RI  2005-02-20     17:15             M       White   \n",
       "4    RI  2005-02-24     01:20             F       White   \n",
       "\n",
       "                    violation_raw  violation  search_conducted search_type  \\\n",
       "0  Equipment/Inspection Violation  Equipment             False         NaN   \n",
       "1                        Speeding   Speeding             False         NaN   \n",
       "2                        Speeding   Speeding             False         NaN   \n",
       "3                Call for Service      Other             False         NaN   \n",
       "4                        Speeding   Speeding             False         NaN   \n",
       "\n",
       "    stop_outcome  is_arrested stop_duration  drugs_related_stop district  \\\n",
       "0       Citation        False      0-15 Min               False  Zone X4   \n",
       "1       Citation        False      0-15 Min               False  Zone K3   \n",
       "2       Citation        False      0-15 Min               False  Zone X4   \n",
       "3  Arrest Driver         True     16-30 Min               False  Zone X1   \n",
       "4       Citation        False      0-15 Min               False  Zone X3   \n",
       "\n",
       "       stop_date_time  \n",
       "0 2005-01-04 12:55:00  \n",
       "1 2005-01-23 23:15:00  \n",
       "2 2005-02-17 04:15:00  \n",
       "3 2005-02-20 17:15:00  \n",
       "4 2005-02-24 01:20:00  "
      ]
     },
     "execution_count": 58,
     "metadata": {},
     "output_type": "execute_result"
    }
   ],
   "source": [
    "df['stop_date_time']= pd.to_datetime(combined)\n",
    "df.head()"
   ]
  },
  {
   "cell_type": "code",
   "execution_count": 59,
   "id": "6e33c193",
   "metadata": {},
   "outputs": [
    {
     "data": {
      "text/plain": [
       "DatetimeIndex(['2005-01-04 12:55:00', '2005-01-23 23:15:00',\n",
       "               '2005-02-17 04:15:00', '2005-02-20 17:15:00',\n",
       "               '2005-02-24 01:20:00'],\n",
       "              dtype='datetime64[ns]', name='stop_date_time', freq=None)"
      ]
     },
     "execution_count": 59,
     "metadata": {},
     "output_type": "execute_result"
    }
   ],
   "source": [
    "df.set_index('stop_date_time', inplace=True)\n",
    "df.index[:5]"
   ]
  },
  {
   "cell_type": "markdown",
   "id": "6fe0f138",
   "metadata": {},
   "source": [
    " Most common stop_outcome?"
   ]
  },
  {
   "cell_type": "code",
   "execution_count": 60,
   "id": "8d7c0206",
   "metadata": {},
   "outputs": [
    {
     "data": {
      "text/plain": [
       "Citation            77092\n",
       "Warning              5137\n",
       "Arrest Driver        2735\n",
       "No Action             625\n",
       "N/D                   607\n",
       "Arrest Passenger      343\n",
       "Name: stop_outcome, dtype: int64"
      ]
     },
     "execution_count": 60,
     "metadata": {},
     "output_type": "execute_result"
    }
   ],
   "source": [
    "df.stop_outcome.value_counts()"
   ]
  },
  {
   "cell_type": "code",
   "execution_count": 61,
   "id": "6dc2b13b",
   "metadata": {},
   "outputs": [
    {
     "data": {
      "text/plain": [
       "Citation            0.890835\n",
       "Warning             0.059361\n",
       "Arrest Driver       0.031604\n",
       "No Action           0.007222\n",
       "N/D                 0.007014\n",
       "Arrest Passenger    0.003964\n",
       "Name: stop_outcome, dtype: float64"
      ]
     },
     "execution_count": 61,
     "metadata": {},
     "output_type": "execute_result"
    }
   ],
   "source": [
    "df.stop_outcome.value_counts(normalize=True)"
   ]
  },
  {
   "cell_type": "code",
   "execution_count": 62,
   "id": "815bcd16",
   "metadata": {},
   "outputs": [
    {
     "data": {
      "text/plain": [
       "Speeding               0.559563\n",
       "Moving violation       0.187476\n",
       "Equipment              0.126209\n",
       "Other                  0.050960\n",
       "Registration/plates    0.042790\n",
       "Seat belt              0.033002\n",
       "Name: violation, dtype: float64"
      ]
     },
     "execution_count": 62,
     "metadata": {},
     "output_type": "execute_result"
    }
   ],
   "source": [
    "df.violation.value_counts(normalize=True)"
   ]
  },
  {
   "cell_type": "markdown",
   "id": "5bc1b893",
   "metadata": {},
   "source": [
    "#### INSIGHT: More than half of all violations are for speeding, followed by other moving violations and equipment violations."
   ]
  },
  {
   "cell_type": "markdown",
   "id": "f98ee063",
   "metadata": {},
   "source": [
    "Most common driver_race?"
   ]
  },
  {
   "cell_type": "code",
   "execution_count": 63,
   "id": "14a9f407",
   "metadata": {},
   "outputs": [
    {
     "data": {
      "text/plain": [
       "White       61872\n",
       "Black       12285\n",
       "Hispanic     9727\n",
       "Asian        2390\n",
       "Other         265\n",
       "Name: driver_race, dtype: int64"
      ]
     },
     "execution_count": 63,
     "metadata": {},
     "output_type": "execute_result"
    }
   ],
   "source": [
    "df.driver_race.value_counts()"
   ]
  },
  {
   "cell_type": "markdown",
   "id": "62b9c49b",
   "metadata": {},
   "source": [
    "'White' driver_race stop_outcome's proportions?"
   ]
  },
  {
   "cell_type": "code",
   "execution_count": 64,
   "id": "7f9049b4",
   "metadata": {},
   "outputs": [
    {
     "name": "stdout",
     "output_type": "stream",
     "text": [
      "(61872, 14)\n"
     ]
    },
    {
     "data": {
      "text/plain": [
       "Citation            0.902234\n",
       "Warning             0.057522\n",
       "Arrest Driver       0.024017\n",
       "No Action           0.007047\n",
       "N/D                 0.006433\n",
       "Arrest Passenger    0.002748\n",
       "Name: stop_outcome, dtype: float64"
      ]
     },
     "execution_count": 64,
     "metadata": {},
     "output_type": "execute_result"
    }
   ],
   "source": [
    "white= df[df.driver_race=='White']\n",
    "print(white.shape)\n",
    "white.stop_outcome.value_counts(normalize=True)"
   ]
  },
  {
   "cell_type": "markdown",
   "id": "f3ef42cd",
   "metadata": {},
   "source": [
    "'Black' driver_race stop_outcome's proportions?"
   ]
  },
  {
   "cell_type": "code",
   "execution_count": 65,
   "id": "4a36e7c7",
   "metadata": {},
   "outputs": [
    {
     "name": "stdout",
     "output_type": "stream",
     "text": [
      "(12285, 14)\n"
     ]
    },
    {
     "data": {
      "text/plain": [
       "Citation            0.857224\n",
       "Warning             0.065120\n",
       "Arrest Driver       0.054294\n",
       "N/D                 0.008547\n",
       "Arrest Passenger    0.008303\n",
       "No Action           0.006512\n",
       "Name: stop_outcome, dtype: float64"
      ]
     },
     "execution_count": 65,
     "metadata": {},
     "output_type": "execute_result"
    }
   ],
   "source": [
    "black= df[df.driver_race=='Black']\n",
    "print(black.shape)\n",
    "black.stop_outcome.value_counts(normalize=True)"
   ]
  },
  {
   "cell_type": "markdown",
   "id": "b3f20922",
   "metadata": {},
   "source": [
    "Do the gender commit diff violations?"
   ]
  },
  {
   "cell_type": "code",
   "execution_count": 66,
   "id": "80ee341d",
   "metadata": {},
   "outputs": [
    {
     "name": "stdout",
     "output_type": "stream",
     "text": [
      "Female:  Speeding               0.658114\n",
      "Moving violation       0.138218\n",
      "Equipment              0.105199\n",
      "Registration/plates    0.044418\n",
      "Other                  0.029738\n",
      "Seat belt              0.024312\n",
      "Name: violation, dtype: float64\n",
      "Male:  Speeding               0.522243\n",
      "Moving violation       0.206144\n",
      "Equipment              0.134158\n",
      "Other                  0.058985\n",
      "Registration/plates    0.042175\n",
      "Seat belt              0.036296\n",
      "Name: violation, dtype: float64\n"
     ]
    }
   ],
   "source": [
    "# Create a DataFrame of female drivers\n",
    "female = df[df['driver_gender']=='F']\n",
    "\n",
    "# Create a DataFrame of male drivers\n",
    "male = df[df['driver_gender']=='M']\n",
    "\n",
    "# Compute the violations by female drivers (as proportions)\n",
    "print(\"Female: \", female[\"violation\"].value_counts(normalize=True))\n",
    "\n",
    "# Compute the violations by male drivers (as proportions)\n",
    "print(\"Male: \", male[\"violation\"].value_counts(normalize=True))"
   ]
  },
  {
   "cell_type": "code",
   "execution_count": 67,
   "id": "340069c7",
   "metadata": {},
   "outputs": [],
   "source": [
    "#visualize"
   ]
  },
  {
   "cell_type": "code",
   "execution_count": null,
   "id": "1f7d734e",
   "metadata": {},
   "outputs": [],
   "source": []
  },
  {
   "cell_type": "markdown",
   "id": "10b7fdba",
   "metadata": {},
   "source": [
    "#### INSIGHT: About two-thirds of female traffic stops are for speeding, whereas stops of males are more balanced among the six categories. This doesn't mean that females speed more often than males, however, since we didn't take into account the number of stops or drivers."
   ]
  },
  {
   "cell_type": "markdown",
   "id": "86433d6e",
   "metadata": {},
   "source": [
    "Does gender affect who does get the ticket for speeding?"
   ]
  },
  {
   "cell_type": "code",
   "execution_count": 68,
   "id": "b830d888",
   "metadata": {},
   "outputs": [
    {
     "name": "stdout",
     "output_type": "stream",
     "text": [
      "Citation            0.952192\n",
      "Warning             0.040074\n",
      "Arrest Driver       0.005752\n",
      "N/D                 0.000959\n",
      "Arrest Passenger    0.000639\n",
      "No Action           0.000383\n",
      "Name: stop_outcome, dtype: float64\n",
      "Citation            0.944595\n",
      "Warning             0.036184\n",
      "Arrest Driver       0.015895\n",
      "Arrest Passenger    0.001281\n",
      "No Action           0.001068\n",
      "N/D                 0.000976\n",
      "Name: stop_outcome, dtype: float64\n"
     ]
    }
   ],
   "source": [
    "# Create a DataFrame of female drivers stopped for speeding\n",
    "female_and_speeding = df[(df.driver_gender==\"F\") & (df.violation=='Speeding')]\n",
    "\n",
    "# Create a DataFrame of male drivers stopped for speeding\n",
    "male_and_speeding = df[(df.driver_gender=='M') & (df.violation=='Speeding')]\n",
    "\n",
    "# Compute the stop outcomes for female drivers (as proportions)\n",
    "print(female_and_speeding[\"stop_outcome\"].value_counts(normalize=True))\n",
    "\n",
    "# Compute the stop outcomes for male drivers (as proportions)\n",
    "print(male_and_speeding[\"stop_outcome\"].value_counts(normalize=True))"
   ]
  },
  {
   "cell_type": "markdown",
   "id": "6164ef1c",
   "metadata": {},
   "source": [
    "#### INSIGHT: The numbers are similar for males and females: about 95% of stops for speeding result in a ticket. Thus, the data fails to show that gender has an impact on who gets a ticket for speeding."
   ]
  },
  {
   "cell_type": "markdown",
   "id": "18f2fe89",
   "metadata": {},
   "source": [
    "Does gender affect whose vehicle is searched"
   ]
  },
  {
   "cell_type": "code",
   "execution_count": 69,
   "id": "1430e866",
   "metadata": {},
   "outputs": [
    {
     "name": "stdout",
     "output_type": "stream",
     "text": [
      "bool\n",
      "False    88434\n",
      "True      3307\n",
      "Name: search_conducted, dtype: int64\n",
      "0.03604713268876511\n"
     ]
    }
   ],
   "source": [
    "# Check the data type of 'search_conducted'\n",
    "print(df.search_conducted.dtype)\n",
    "\n",
    "# Calculate the search rate by counting the values\n",
    "print(df.search_conducted.value_counts())\n",
    "\n",
    "# Calculate the search rate by taking the mean\n",
    "print(df.search_conducted.mean())"
   ]
  },
  {
   "cell_type": "code",
   "execution_count": 70,
   "id": "a5ddf835",
   "metadata": {},
   "outputs": [
    {
     "data": {
      "text/plain": [
       "driver_gender\n",
       "F    0.019181\n",
       "M    0.045426\n",
       "Name: search_conducted, dtype: float64"
      ]
     },
     "execution_count": 70,
     "metadata": {},
     "output_type": "execute_result"
    }
   ],
   "source": [
    "df.groupby('driver_gender').search_conducted.mean()"
   ]
  },
  {
   "cell_type": "markdown",
   "id": "c7bb5ff0",
   "metadata": {},
   "source": [
    "#### search rate is about 3.8%. Male drivers are searched more than twice as often as female drivers. Why might this be?"
   ]
  },
  {
   "cell_type": "markdown",
   "id": "cf619e59",
   "metadata": {},
   "source": [
    " Are males and females searched at about the same rate for each violation?"
   ]
  },
  {
   "cell_type": "code",
   "execution_count": 71,
   "id": "4b29cd3a",
   "metadata": {},
   "outputs": [
    {
     "name": "stdout",
     "output_type": "stream",
     "text": [
      "violation            driver_gender\n",
      "Equipment            F                0.039984\n",
      "                     M                0.071496\n",
      "Moving violation     F                0.039257\n",
      "                     M                0.061524\n",
      "Other                F                0.041018\n",
      "                     M                0.046191\n",
      "Registration/plates  F                0.054924\n",
      "                     M                0.108802\n",
      "Seat belt            F                0.017301\n",
      "                     M                0.035119\n",
      "Speeding             F                0.008309\n",
      "                     M                0.027885\n",
      "Name: search_conducted, dtype: float64\n"
     ]
    }
   ],
   "source": [
    "# Calculate the search rate for each combination of gender and violation\n",
    "print(df.groupby([ \"violation\", \"driver_gender\"]).search_conducted.mean())"
   ]
  },
  {
   "cell_type": "markdown",
   "id": "c318e6c3",
   "metadata": {},
   "source": [
    "#### INSIGHT: For all types of violations, the search rate is higher for males than for females, disproving our hypothesis."
   ]
  },
  {
   "cell_type": "markdown",
   "id": "a80a8e8e",
   "metadata": {},
   "source": [
    "Does gender affect who is fresked during a search?"
   ]
  },
  {
   "cell_type": "code",
   "execution_count": 72,
   "id": "59429c4d",
   "metadata": {},
   "outputs": [
    {
     "data": {
      "text/plain": [
       "False    88434\n",
       "True      3307\n",
       "Name: search_conducted, dtype: int64"
      ]
     },
     "execution_count": 72,
     "metadata": {},
     "output_type": "execute_result"
    }
   ],
   "source": [
    "df.search_conducted.value_counts()"
   ]
  },
  {
   "cell_type": "code",
   "execution_count": 73,
   "id": "12019b0d",
   "metadata": {},
   "outputs": [
    {
     "data": {
      "text/plain": [
       "NaN                                                         88434\n",
       "Incident to Arrest                                           1290\n",
       "Probable Cause                                                924\n",
       "Inventory                                                     219\n",
       "Reasonable Suspicion                                          214\n",
       "Protective Frisk                                              164\n",
       "Incident to Arrest,Inventory                                  123\n",
       "Incident to Arrest,Probable Cause                             100\n",
       "Probable Cause,Reasonable Suspicion                            54\n",
       "Incident to Arrest,Inventory,Probable Cause                    35\n",
       "Probable Cause,Protective Frisk                                35\n",
       "Incident to Arrest,Protective Frisk                            33\n",
       "Inventory,Probable Cause                                       25\n",
       "Protective Frisk,Reasonable Suspicion                          19\n",
       "Incident to Arrest,Inventory,Protective Frisk                  18\n",
       "Incident to Arrest,Probable Cause,Protective Frisk             13\n",
       "Inventory,Protective Frisk                                     12\n",
       "Incident to Arrest,Reasonable Suspicion                         8\n",
       "Probable Cause,Protective Frisk,Reasonable Suspicion            5\n",
       "Incident to Arrest,Probable Cause,Reasonable Suspicion          5\n",
       "Incident to Arrest,Inventory,Reasonable Suspicion               4\n",
       "Incident to Arrest,Protective Frisk,Reasonable Suspicion        2\n",
       "Inventory,Reasonable Suspicion                                  2\n",
       "Inventory,Protective Frisk,Reasonable Suspicion                 1\n",
       "Inventory,Probable Cause,Reasonable Suspicion                   1\n",
       "Inventory,Probable Cause,Protective Frisk                       1\n",
       "Name: search_type, dtype: int64"
      ]
     },
     "execution_count": 73,
     "metadata": {},
     "output_type": "execute_result"
    }
   ],
   "source": [
    "df.search_type.value_counts(dropna= False)"
   ]
  },
  {
   "cell_type": "code",
   "execution_count": 74,
   "id": "513fedb4",
   "metadata": {},
   "outputs": [
    {
     "name": "stdout",
     "output_type": "stream",
     "text": [
      "bool\n",
      "303\n",
      "frisk done along wid other searches  113\n"
     ]
    }
   ],
   "source": [
    "#search_type field has 88545 missing values is identical to number of false values in search_counducted field.\n",
    "#When there is no search to conduct, there is no info to record about that search thus search_type field is missing\n",
    "\n",
    "\n",
    "# Check if 'search_type' contains the string 'Protective Frisk'\n",
    "df['frisk'] = df.search_type.str.contains('Protective Frisk', na=False) \n",
    "#if found missing value in search_type, contain method returns false\n",
    "\n",
    "# Check the data type of 'frisk'\n",
    "print(df.frisk.dtype)\n",
    "\n",
    "# Take the sum of 'frisk'\n",
    "print(df.frisk.sum())\n",
    "print(\"frisk done along wid other searches \",274-161)"
   ]
  },
  {
   "cell_type": "code",
   "execution_count": 75,
   "id": "c9790914",
   "metadata": {},
   "outputs": [
    {
     "name": "stdout",
     "output_type": "stream",
     "text": [
      "0.09162382824312065\n",
      "driver_gender\n",
      "F    0.074561\n",
      "M    0.094353\n",
      "Name: frisk, dtype: float64\n"
     ]
    }
   ],
   "source": [
    "# Create a DataFrame of stops in which a search was conducted\n",
    "searched = df[df.search_conducted == True]\n",
    "\n",
    "# Calculate the overall frisk rate by taking the mean of 'frisk'\n",
    "print(searched.frisk.mean())\n",
    "\n",
    "# Calculate the frisk rate for each gender\n",
    "print(searched.groupby(\"driver_gender\").frisk.mean())"
   ]
  },
  {
   "cell_type": "markdown",
   "id": "838c07e4",
   "metadata": {},
   "source": [
    "#### INSIGHT: frisk rate is higher for Male..maybe bcoz of gender"
   ]
  },
  {
   "cell_type": "markdown",
   "id": "9aefc61b",
   "metadata": {},
   "source": [
    "Does time of day affect arrest rate?"
   ]
  },
  {
   "cell_type": "code",
   "execution_count": 76,
   "id": "759ebba8",
   "metadata": {},
   "outputs": [
    {
     "name": "stdout",
     "output_type": "stream",
     "text": [
      "0.09025408486936048\n",
      "stop_date_time\n",
      "0     0.121206\n",
      "1     0.144250\n",
      "2     0.144120\n",
      "3     0.148370\n",
      "4     0.179310\n",
      "5     0.178899\n",
      "6     0.043614\n",
      "7     0.053497\n",
      "8     0.073591\n",
      "9     0.070199\n",
      "10    0.069306\n",
      "11    0.075217\n",
      "12    0.087040\n",
      "13    0.078964\n",
      "14    0.080171\n",
      "15    0.080526\n",
      "16    0.089505\n",
      "17    0.107914\n",
      "18    0.089883\n",
      "19    0.078508\n",
      "20    0.091482\n",
      "21    0.153265\n",
      "22    0.110715\n",
      "23    0.108225\n",
      "Name: is_arrested, dtype: float64\n"
     ]
    }
   ],
   "source": [
    "# Calculate the overall arrest rate(number of times arrested whenever police stops a driver)\n",
    "print(df.is_arrested.mean())\n",
    "\n",
    "# Calculate the hourly arrest rate\n",
    "print(df.groupby(df.index.hour).is_arrested.mean())\n",
    "\n",
    "# Save the hourly arrest rate\n",
    "hourly_arrest_rate = df.groupby(df.index.hour).is_arrested.mean()"
   ]
  },
  {
   "cell_type": "code",
   "execution_count": 77,
   "id": "08ee66fd",
   "metadata": {},
   "outputs": [
    {
     "data": {
      "image/png": "[encoded data removed]",
      "text/plain": [
       "<Figure size 432x288 with 1 Axes>"
      ]
     },
     "metadata": {
      "needs_background": "light"
     },
     "output_type": "display_data"
    }
   ],
   "source": [
    "# Import matplotlib.pyplot as plt\n",
    "import matplotlib.pyplot as plt \n",
    "\n",
    "# Create a line plot of 'hourly_arrest_rate'\n",
    "hourly_arrest_rate.plot()\n",
    "\n",
    "# Add the xlabel, ylabel, and title\n",
    "plt.xlabel(\"Hour\")\n",
    "plt.ylabel(\"Arrest Rate\")\n",
    "plt.title('Arrest Rate by Time of Day')\n",
    "\n",
    "# Display the plot\n",
    "plt.show()"
   ]
  },
  {
   "cell_type": "markdown",
   "id": "cfab2337",
   "metadata": {},
   "source": [
    "#### INSIGHT:The arrest rate has a significant spike early in morning, and then dips after early morning hours."
   ]
  },
  {
   "cell_type": "markdown",
   "id": "bc4be763",
   "metadata": {},
   "source": [
    "Are drug related cases on rise?"
   ]
  },
  {
   "cell_type": "code",
   "execution_count": 78,
   "id": "9041d25a",
   "metadata": {},
   "outputs": [
    {
     "data": {
      "text/plain": [
       "False    90879\n",
       "True       862\n",
       "Name: drugs_related_stop, dtype: int64"
      ]
     },
     "execution_count": 78,
     "metadata": {},
     "output_type": "execute_result"
    }
   ],
   "source": [
    "df.drugs_related_stop.value_counts(dropna=False)"
   ]
  },
  {
   "cell_type": "code",
   "execution_count": 79,
   "id": "493cd722",
   "metadata": {},
   "outputs": [],
   "source": [
    "ri=df"
   ]
  },
  {
   "cell_type": "code",
   "execution_count": 80,
   "id": "18a84c9b",
   "metadata": {},
   "outputs": [
    {
     "name": "stdout",
     "output_type": "stream",
     "text": [
      "stop_date_time\n",
      "2005-12-31    0.006390\n",
      "2006-12-31    0.006913\n",
      "2007-12-31    0.007520\n",
      "2008-12-31    0.006998\n",
      "2009-12-31    0.009079\n",
      "2010-12-31    0.009407\n",
      "2011-12-31    0.009035\n",
      "2012-12-31    0.009388\n",
      "2013-12-31    0.012283\n",
      "2014-12-31    0.013280\n",
      "2015-12-31    0.011787\n",
      "Freq: A-DEC, Name: drugs_related_stop, dtype: float64\n"
     ]
    },
    {
     "data": {
      "image/png": "[encoded data removed]",
      "text/plain": [
       "<Figure size 432x288 with 1 Axes>"
      ]
     },
     "metadata": {
      "needs_background": "light"
     },
     "output_type": "display_data"
    }
   ],
   "source": [
    "# Calculate the annual rate of drug-related stops\n",
    "print(ri.drugs_related_stop.resample('A').mean())\n",
    "\n",
    "# Save the annual rate of drug-related stops\n",
    "annual_drug_rate = ri.drugs_related_stop.resample('A').mean()\n",
    "\n",
    "# Create a line plot of 'annual_drug_rate'\n",
    "annual_drug_rate.plot()\n",
    "\n",
    "# Display the plot\n",
    "plt.show()"
   ]
  },
  {
   "cell_type": "markdown",
   "id": "ed59da54",
   "metadata": {},
   "source": [
    "#### INSIGHT: The rate of drug-related stops nearly doubled over the course of 10 years. Why might that be the case?"
   ]
  },
  {
   "cell_type": "code",
   "execution_count": 81,
   "id": "52bd30b8",
   "metadata": {},
   "outputs": [
    {
     "data": {
      "image/png": "[encoded data removed]",
      "text/plain": [
       "<Figure size 432x288 with 2 Axes>"
      ]
     },
     "metadata": {
      "needs_background": "light"
     },
     "output_type": "display_data"
    }
   ],
   "source": [
    "# Calculate and save the annual search rate\n",
    "annual_search_rate = ri.search_conducted.resample('A').mean()\n",
    "\n",
    "# Concatenate 'annual_drug_rate' and 'annual_search_rate'\n",
    "annual = pd.concat([annual_drug_rate, annual_search_rate], axis='columns')\n",
    "\n",
    "# Create subplots from 'annual'\n",
    "annual.plot(subplots=True)\n",
    "\n",
    "# Display the subplots\n",
    "plt.show()"
   ]
  },
  {
   "cell_type": "markdown",
   "id": "47666064",
   "metadata": {},
   "source": [
    "#### INSIGHT:  The rate of drug-related stops increased even though the search rate decreased, disproving our hypothesis."
   ]
  },
  {
   "cell_type": "markdown",
   "id": "43c83e59",
   "metadata": {},
   "source": [
    "What violations are caught in each dstrict?"
   ]
  },
  {
   "cell_type": "code",
   "execution_count": 91,
   "id": "61c8852e",
   "metadata": {},
   "outputs": [
    {
     "name": "stdout",
     "output_type": "stream",
     "text": [
      "violation  Equipment  Moving violation  Other  Registration/plates  Seat belt  \\\n",
      "district                                                                        \n",
      "Zone K1          673              1254    290                  120          0   \n",
      "Zone K2         2061              2962    942                  768        481   \n",
      "Zone K3         2302              2898    706                  695        638   \n",
      "Zone X1          296               671    143                   38         74   \n",
      "Zone X3         2049              3086    769                  671        820   \n",
      "Zone X4         3541              5353   1560                 1411        843   \n",
      "\n",
      "violation  Speeding  \n",
      "district             \n",
      "Zone K1        5960  \n",
      "Zone K2       10448  \n",
      "Zone K3       12323  \n",
      "Zone X1        1119  \n",
      "Zone X3        8779  \n",
      "Zone X4        9795  \n",
      "violation  Equipment  Moving violation  Other  Registration/plates  Seat belt  \\\n",
      "district                                                                        \n",
      "Zone K1          673              1254    290                  120          0   \n",
      "Zone K2         2061              2962    942                  768        481   \n",
      "Zone K3         2302              2898    706                  695        638   \n",
      "\n",
      "violation  Speeding  \n",
      "district             \n",
      "Zone K1        5960  \n",
      "Zone K2       10448  \n",
      "Zone K3       12323  \n"
     ]
    },
    {
     "data": {
      "text/plain": [
       "(91741, 16)"
      ]
     },
     "execution_count": 91,
     "metadata": {},
     "output_type": "execute_result"
    }
   ],
   "source": [
    "# Create a frequency table of districts and violations\n",
    "print(pd.crosstab(ri.district, ri.violation))\n",
    "\n",
    "# Save the frequency table as 'all_zones'\n",
    "all_zones = pd.crosstab(ri.district, ri.violation)\n",
    "\n",
    "# Select rows 'Zone K1' through 'Zone K3'\n",
    "print(all_zones.loc['Zone K1':'Zone K3'])\n",
    "\n",
    "# Save the smaller table as 'k_zones'\n",
    "k_zones = all_zones.loc['Zone K1':'Zone K3']\n",
    "ri.shape"
   ]
  },
  {
   "cell_type": "code",
   "execution_count": 92,
   "id": "67160767",
   "metadata": {},
   "outputs": [
    {
     "data": {
      "image/png": "[encoded data removed]",
      "text/plain": [
       "<Figure size 432x288 with 1 Axes>"
      ]
     },
     "metadata": {
      "needs_background": "light"
     },
     "output_type": "display_data"
    }
   ],
   "source": [
    "# Create a bar plot of 'k_zones'\n",
    "k_zones.plot(kind=\"bar\")\n",
    "\n",
    "# Display the plot\n",
    "plt.show()"
   ]
  },
  {
   "cell_type": "markdown",
   "id": "1c6884fa",
   "metadata": {},
   "source": [
    "#### INSIGHT: The vast majority of traffic stops in Zone K1 are for speeding, and Zones K2 and K3 are remarkably similar to one another in terms of violations."
   ]
  },
  {
   "cell_type": "code",
   "execution_count": 82,
   "id": "cc67b285",
   "metadata": {},
   "outputs": [
    {
     "data": {
      "text/plain": [
       "Index(['state', 'stop_date', 'stop_time', 'driver_gender', 'driver_race',\n",
       "       'violation_raw', 'violation', 'search_conducted', 'search_type',\n",
       "       'stop_outcome', 'is_arrested', 'stop_duration', 'drugs_related_stop',\n",
       "       'district', 'frisk'],\n",
       "      dtype='object')"
      ]
     },
     "execution_count": 82,
     "metadata": {},
     "output_type": "execute_result"
    }
   ],
   "source": [
    "ri.columns"
   ]
  },
  {
   "cell_type": "markdown",
   "id": "b5445698",
   "metadata": {},
   "source": [
    "How long might you be stopped for a violation?"
   ]
  },
  {
   "cell_type": "code",
   "execution_count": 83,
   "id": "37df6646",
   "metadata": {},
   "outputs": [
    {
     "name": "stdout",
     "output_type": "stream",
     "text": [
      "['0-15 Min' '16-30 Min' nan '30+ Min']\n",
      "[ 8. 23. nan 45.]\n"
     ]
    }
   ],
   "source": [
    "# Print the unique values in 'stop_duration'\n",
    "print(ri.stop_duration.unique())\n",
    "\n",
    "# Create a dictionary that maps strings to integers\n",
    "mapping = {'0-15 Min': 8, '16-30 Min' :23, '30+ Min': 45, '2':2, '1':1}\n",
    "\n",
    "# Convert the 'stop_duration' strings to integers using the 'mapping'\n",
    "ri['stop_minutes'] = ri.stop_duration.map(mapping)\n",
    "\n",
    "# Print the unique values in 'stop_minutes'\n",
    "print(ri.stop_minutes.unique())"
   ]
  },
  {
   "cell_type": "code",
   "execution_count": 84,
   "id": "fdd26059",
   "metadata": {},
   "outputs": [
    {
     "data": {
      "text/plain": [
       "5202"
      ]
     },
     "execution_count": 84,
     "metadata": {},
     "output_type": "execute_result"
    }
   ],
   "source": [
    "ri.stop_minutes.isnull().sum()"
   ]
  },
  {
   "cell_type": "code",
   "execution_count": 85,
   "id": "93bafed2",
   "metadata": {},
   "outputs": [
    {
     "name": "stdout",
     "output_type": "stream",
     "text": [
      "violation_raw\n",
      "APB                                 17.967033\n",
      "Call for Service                    22.140805\n",
      "Equipment/Inspection Violation      11.445340\n",
      "Motorist Assist/Courtesy            17.741463\n",
      "Other Traffic Violation             13.844490\n",
      "Registration Violation              13.736970\n",
      "Seatbelt Violation                   9.662815\n",
      "Special Detail/Directed Patrol      15.123632\n",
      "Speeding                            10.581509\n",
      "Suspicious Person                   14.910714\n",
      "Violation of City/Town Ordinance    13.254144\n",
      "Warrant                             24.055556\n",
      "Name: stop_minutes, dtype: float64\n"
     ]
    },
    {
     "data": {
      "image/png": "[encoded data removed]",
      "text/plain": [
       "<Figure size 432x288 with 1 Axes>"
      ]
     },
     "metadata": {
      "needs_background": "light"
     },
     "output_type": "display_data"
    }
   ],
   "source": [
    "# Calculate the mean 'stop_minutes' for each value in 'violation_raw'\n",
    "print(ri.groupby('violation_raw').stop_minutes.mean())\n",
    "\n",
    "# Save the resulting Series as 'stop_length'\n",
    "stop_length = ri.groupby('violation_raw').stop_minutes.mean()\n",
    "\n",
    "# Sort 'stop_length' by its values and create a horizontal bar plot\n",
    "stop_length.sort_values().plot(kind=\"barh\")\n",
    "\n",
    "# Display the plot\n",
    "plt.show()"
   ]
  },
  {
   "cell_type": "markdown",
   "id": "b40843bc",
   "metadata": {},
   "source": [
    "How often searches were done after each violation type."
   ]
  },
  {
   "cell_type": "code",
   "execution_count": 86,
   "id": "51a56ee5",
   "metadata": {},
   "outputs": [
    {
     "data": {
      "text/plain": [
       "violation\n",
       "Equipment              0.064274\n",
       "Moving violation       0.057014\n",
       "Other                  0.045351\n",
       "Registration/plates    0.093438\n",
       "Seat belt              0.031513\n",
       "Speeding               0.021560\n",
       "Name: search_conducted, dtype: float64"
      ]
     },
     "execution_count": 86,
     "metadata": {},
     "output_type": "execute_result"
    }
   ],
   "source": [
    "search_rate=df.groupby('violation').search_conducted.mean()\n",
    "search_rate"
   ]
  },
  {
   "cell_type": "code",
   "execution_count": 87,
   "id": "fd613428",
   "metadata": {},
   "outputs": [
    {
     "data": {
      "image/png": "[encoded data removed]",
      "text/plain": [
       "<Figure size 432x288 with 1 Axes>"
      ]
     },
     "metadata": {
      "needs_background": "light"
     },
     "output_type": "display_data"
    }
   ],
   "source": [
    "search_rate.sort_values().plot(kind=\"barh\")\n",
    "plt.show()"
   ]
  },
  {
   "cell_type": "code",
   "execution_count": 88,
   "id": "efb01025",
   "metadata": {},
   "outputs": [
    {
     "data": {
      "text/html": [
       "<div>\n",
       "<style scoped>\n",
       "    .dataframe tbody tr th:only-of-type {\n",
       "        vertical-align: middle;\n",
       "    }\n",
       "\n",
       "    .dataframe tbody tr th {\n",
       "        vertical-align: top;\n",
       "    }\n",
       "\n",
       "    .dataframe thead th {\n",
       "        text-align: right;\n",
       "    }\n",
       "</style>\n",
       "<table border=\"1\" class=\"dataframe\">\n",
       "  <thead>\n",
       "    <tr style=\"text-align: right;\">\n",
       "      <th></th>\n",
       "      <th>state</th>\n",
       "      <th>stop_date</th>\n",
       "      <th>stop_time</th>\n",
       "      <th>driver_gender</th>\n",
       "      <th>driver_race</th>\n",
       "      <th>violation_raw</th>\n",
       "      <th>violation</th>\n",
       "      <th>search_conducted</th>\n",
       "      <th>search_type</th>\n",
       "      <th>stop_outcome</th>\n",
       "      <th>is_arrested</th>\n",
       "      <th>stop_duration</th>\n",
       "      <th>drugs_related_stop</th>\n",
       "      <th>district</th>\n",
       "      <th>frisk</th>\n",
       "      <th>stop_minutes</th>\n",
       "    </tr>\n",
       "    <tr>\n",
       "      <th>stop_date_time</th>\n",
       "      <th></th>\n",
       "      <th></th>\n",
       "      <th></th>\n",
       "      <th></th>\n",
       "      <th></th>\n",
       "      <th></th>\n",
       "      <th></th>\n",
       "      <th></th>\n",
       "      <th></th>\n",
       "      <th></th>\n",
       "      <th></th>\n",
       "      <th></th>\n",
       "      <th></th>\n",
       "      <th></th>\n",
       "      <th></th>\n",
       "      <th></th>\n",
       "    </tr>\n",
       "  </thead>\n",
       "  <tbody>\n",
       "    <tr>\n",
       "      <th>2005-01-04 12:55:00</th>\n",
       "      <td>RI</td>\n",
       "      <td>2005-01-04</td>\n",
       "      <td>12:55</td>\n",
       "      <td>M</td>\n",
       "      <td>White</td>\n",
       "      <td>Equipment/Inspection Violation</td>\n",
       "      <td>Equipment</td>\n",
       "      <td>False</td>\n",
       "      <td>NaN</td>\n",
       "      <td>Citation</td>\n",
       "      <td>False</td>\n",
       "      <td>0-15 Min</td>\n",
       "      <td>False</td>\n",
       "      <td>Zone X4</td>\n",
       "      <td>False</td>\n",
       "      <td>8.0</td>\n",
       "    </tr>\n",
       "    <tr>\n",
       "      <th>2005-01-23 23:15:00</th>\n",
       "      <td>RI</td>\n",
       "      <td>2005-01-23</td>\n",
       "      <td>23:15</td>\n",
       "      <td>M</td>\n",
       "      <td>White</td>\n",
       "      <td>Speeding</td>\n",
       "      <td>Speeding</td>\n",
       "      <td>False</td>\n",
       "      <td>NaN</td>\n",
       "      <td>Citation</td>\n",
       "      <td>False</td>\n",
       "      <td>0-15 Min</td>\n",
       "      <td>False</td>\n",
       "      <td>Zone K3</td>\n",
       "      <td>False</td>\n",
       "      <td>8.0</td>\n",
       "    </tr>\n",
       "    <tr>\n",
       "      <th>2005-02-17 04:15:00</th>\n",
       "      <td>RI</td>\n",
       "      <td>2005-02-17</td>\n",
       "      <td>04:15</td>\n",
       "      <td>M</td>\n",
       "      <td>White</td>\n",
       "      <td>Speeding</td>\n",
       "      <td>Speeding</td>\n",
       "      <td>False</td>\n",
       "      <td>NaN</td>\n",
       "      <td>Citation</td>\n",
       "      <td>False</td>\n",
       "      <td>0-15 Min</td>\n",
       "      <td>False</td>\n",
       "      <td>Zone X4</td>\n",
       "      <td>False</td>\n",
       "      <td>8.0</td>\n",
       "    </tr>\n",
       "    <tr>\n",
       "      <th>2005-02-20 17:15:00</th>\n",
       "      <td>RI</td>\n",
       "      <td>2005-02-20</td>\n",
       "      <td>17:15</td>\n",
       "      <td>M</td>\n",
       "      <td>White</td>\n",
       "      <td>Call for Service</td>\n",
       "      <td>Other</td>\n",
       "      <td>False</td>\n",
       "      <td>NaN</td>\n",
       "      <td>Arrest Driver</td>\n",
       "      <td>True</td>\n",
       "      <td>16-30 Min</td>\n",
       "      <td>False</td>\n",
       "      <td>Zone X1</td>\n",
       "      <td>False</td>\n",
       "      <td>23.0</td>\n",
       "    </tr>\n",
       "    <tr>\n",
       "      <th>2005-02-24 01:20:00</th>\n",
       "      <td>RI</td>\n",
       "      <td>2005-02-24</td>\n",
       "      <td>01:20</td>\n",
       "      <td>F</td>\n",
       "      <td>White</td>\n",
       "      <td>Speeding</td>\n",
       "      <td>Speeding</td>\n",
       "      <td>False</td>\n",
       "      <td>NaN</td>\n",
       "      <td>Citation</td>\n",
       "      <td>False</td>\n",
       "      <td>0-15 Min</td>\n",
       "      <td>False</td>\n",
       "      <td>Zone X3</td>\n",
       "      <td>False</td>\n",
       "      <td>8.0</td>\n",
       "    </tr>\n",
       "  </tbody>\n",
       "</table>\n",
       "</div>"
      ],
      "text/plain": [
       "                    state   stop_date stop_time driver_gender driver_race  \\\n",
       "stop_date_time                                                              \n",
       "2005-01-04 12:55:00    RI  2005-01-04     12:55             M       White   \n",
       "2005-01-23 23:15:00    RI  2005-01-23     23:15             M       White   \n",
       "2005-02-17 04:15:00    RI  2005-02-17     04:15             M       White   \n",
       "2005-02-20 17:15:00    RI  2005-02-20     17:15             M       White   \n",
       "2005-02-24 01:20:00    RI  2005-02-24     01:20             F       White   \n",
       "\n",
       "                                      violation_raw  violation  \\\n",
       "stop_date_time                                                   \n",
       "2005-01-04 12:55:00  Equipment/Inspection Violation  Equipment   \n",
       "2005-01-23 23:15:00                        Speeding   Speeding   \n",
       "2005-02-17 04:15:00                        Speeding   Speeding   \n",
       "2005-02-20 17:15:00                Call for Service      Other   \n",
       "2005-02-24 01:20:00                        Speeding   Speeding   \n",
       "\n",
       "                     search_conducted search_type   stop_outcome  is_arrested  \\\n",
       "stop_date_time                                                                  \n",
       "2005-01-04 12:55:00             False         NaN       Citation        False   \n",
       "2005-01-23 23:15:00             False         NaN       Citation        False   \n",
       "2005-02-17 04:15:00             False         NaN       Citation        False   \n",
       "2005-02-20 17:15:00             False         NaN  Arrest Driver         True   \n",
       "2005-02-24 01:20:00             False         NaN       Citation        False   \n",
       "\n",
       "                    stop_duration  drugs_related_stop district  frisk  \\\n",
       "stop_date_time                                                          \n",
       "2005-01-04 12:55:00      0-15 Min               False  Zone X4  False   \n",
       "2005-01-23 23:15:00      0-15 Min               False  Zone K3  False   \n",
       "2005-02-17 04:15:00      0-15 Min               False  Zone X4  False   \n",
       "2005-02-20 17:15:00     16-30 Min               False  Zone X1  False   \n",
       "2005-02-24 01:20:00      0-15 Min               False  Zone X3  False   \n",
       "\n",
       "                     stop_minutes  \n",
       "stop_date_time                     \n",
       "2005-01-04 12:55:00           8.0  \n",
       "2005-01-23 23:15:00           8.0  \n",
       "2005-02-17 04:15:00           8.0  \n",
       "2005-02-20 17:15:00          23.0  \n",
       "2005-02-24 01:20:00           8.0  "
      ]
     },
     "execution_count": 88,
     "metadata": {},
     "output_type": "execute_result"
    }
   ],
   "source": [
    "ri.head()"
   ]
  },
  {
   "cell_type": "code",
   "execution_count": 89,
   "id": "9e43906c",
   "metadata": {},
   "outputs": [],
   "source": [
    "ri.to_csv('ri.csv')"
   ]
  },
  {
   "cell_type": "code",
   "execution_count": null,
   "id": "4281a5c9",
   "metadata": {},
   "outputs": [],
   "source": []
  }
 ],
 "metadata": {
  "kernelspec": {
   "display_name": "Python 3 (ipykernel)",
   "language": "python",
   "name": "python3"
  },
  "language_info": {
   "codemirror_mode": {
    "name": "ipython",
    "version": 3
   },
   "file_extension": ".py",
   "mimetype": "text/x-python",
   "name": "python",
   "nbconvert_exporter": "python",
   "pygments_lexer": "ipython3",
   "version": "3.9.7"
  }
 },
 "nbformat": 4,
 "nbformat_minor": 5
}
